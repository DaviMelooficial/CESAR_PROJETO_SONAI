{
 "cells": [
  {
   "cell_type": "markdown",
   "id": "7d401f7a",
   "metadata": {},
   "source": [
    "# Análise Exploratória de Dados - Relatório de Projetos Corporativos 2025\n",
    "\n",
    "## Resumo Executivo\n",
    "\n",
    "Este estudo apresenta uma análise exploratória dos dados de projetos estratégicos da MC Sonae durante o ano de 2024. O dataset contém informações sobre 4 projetos distintos, abrangendo diferentes departamentos e representando um investimento total de €415.000. O objetivo desta análise é identificar padrões, tendências e insights que possam orientar futuras decisões de gestão de portfólio de projetos.\n",
    "\n",
    "## Metodologia\n",
    "\n",
    "A análise foi conduzida utilizando técnicas de estatística descritiva e visualização de dados, com foco em:\n",
    "- Distribuição de investimentos por departamento\n",
    "- Análise temporal dos projetos\n",
    "- Correlação entre investimento e progresso\n",
    "- Avaliação do desempenho por status\n",
    "\n",
    "---"
   ]
  },
  {
   "cell_type": "code",
   "execution_count": 11,
   "id": "263770e8",
   "metadata": {},
   "outputs": [
    {
     "name": "stdout",
     "output_type": "stream",
     "text": [
      "Bibliotecas carregadas com sucesso!\n"
     ]
    }
   ],
   "source": [
    "# Importação das bibliotecas necessárias\n",
    "import pandas as pd\n",
    "import numpy as np\n",
    "import matplotlib.pyplot as plt\n",
    "import seaborn as sns\n",
    "import plotly.express as px\n",
    "import plotly.graph_objects as go\n",
    "from plotly.subplots import make_subplots\n",
    "import warnings\n",
    "from datetime import datetime, timedelta\n",
    "warnings.filterwarnings('ignore')\n",
    "\n",
    "# Configurações visuais\n",
    "plt.style.use('default')\n",
    "sns.set_palette(\"husl\")\n",
    "pd.set_option('display.max_columns', None)\n",
    "\n",
    "print(\"Bibliotecas carregadas com sucesso!\")"
   ]
  },
  {
   "cell_type": "markdown",
   "id": "e26ab991",
   "metadata": {},
   "source": [
    "## 1. Carregamento e Preparação dos Dados\n",
    "\n",
    "Iniciamos a análise carregando o dataset e realizando uma inspeção inicial para compreender a estrutura e qualidade dos dados."
   ]
  },
  {
   "cell_type": "code",
   "execution_count": 12,
   "id": "01fb451a",
   "metadata": {},
   "outputs": [
    {
     "name": "stdout",
     "output_type": "stream",
     "text": [
      "=== INFORMAÇÕES GERAIS DO DATASET ===\n",
      "Dimensões: 4 linhas x 9 colunas\n",
      "Período dos dados: 2025-02-01 a 2025-12-31\n",
      "\n",
      "=== PRIMEIRAS OBSERVAÇÕES ===\n",
      "                      Projeto Departamento  Responsavel  Investimento (€)  \\\n",
      "0      Digitalização de Lojas    Operações    Ana Silva            120000   \n",
      "1  Sustentabilidade Logística    Logística  Bruno Costa             85000   \n",
      "2         Análise de Clientes    Marketing  João Mendes             60000   \n",
      "3    Plataforma de Pagamentos   Financeiro  Marta Lopes            150000   \n",
      "\n",
      "  Data_Inicio    Data_Fim        Status  Progresso (%)  \\\n",
      "0  2025-02-01  2025-09-15     Concluído            100   \n",
      "1  2025-03-10  2025-11-30  Em Andamento             65   \n",
      "2  2025-05-01  2025-12-31      Planeado             10   \n",
      "3  2025-12-01  2025-10-31  Em Andamento             80   \n",
      "\n",
      "                                         Observacoes  \n",
      "0     Implementação de POS inteligentes em 50 lojas.  \n",
      "1     Redução de 20% no consumo energético da frota.  \n",
      "2  Integração de dados omnicanal para insights de...  \n",
      "3      Teste piloto em 10 lojas Continente em curso.  \n",
      "\n",
      "=== TIPOS DE DADOS ===\n",
      "Projeto             object\n",
      "Departamento        object\n",
      "Responsavel         object\n",
      "Investimento (€)     int64\n",
      "Data_Inicio         object\n",
      "Data_Fim            object\n",
      "Status              object\n",
      "Progresso (%)        int64\n",
      "Observacoes         object\n",
      "dtype: object\n",
      "\n",
      "=== VALORES AUSENTES ===\n",
      "Projeto             0\n",
      "Departamento        0\n",
      "Responsavel         0\n",
      "Investimento (€)    0\n",
      "Data_Inicio         0\n",
      "Data_Fim            0\n",
      "Status              0\n",
      "Progresso (%)       0\n",
      "Observacoes         0\n",
      "dtype: int64\n"
     ]
    }
   ],
   "source": [
    "# Carregamento dos dados\n",
    "df = pd.read_csv('../data/raw/Relatorio_projetos.csv')\n",
    "\n",
    "# Informações básicas do dataset\n",
    "print(\"=== INFORMAÇÕES GERAIS DO DATASET ===\")\n",
    "print(f\"Dimensões: {df.shape[0]} linhas x {df.shape[1]} colunas\")\n",
    "print(f\"Período dos dados: {df['Data_Inicio'].min()} a {df['Data_Fim'].max()}\")\n",
    "print(\"\\n=== PRIMEIRAS OBSERVAÇÕES ===\")\n",
    "print(df.head())\n",
    "\n",
    "print(\"\\n=== TIPOS DE DADOS ===\")\n",
    "print(df.dtypes)\n",
    "\n",
    "print(\"\\n=== VALORES AUSENTES ===\")\n",
    "print(df.isnull().sum())"
   ]
  },
  {
   "cell_type": "code",
   "execution_count": 13,
   "id": "cc731dfc",
   "metadata": {},
   "outputs": [
    {
     "name": "stdout",
     "output_type": "stream",
     "text": [
      "=== DADOS APÓS PROCESSAMENTO ===\n",
      "Nova coluna 'Duracao_meses': [7.4, 8.7, 8.0, -1.0]\n",
      "Categorias de investimento: {'Médio': 2, 'Baixo': 1, 'Alto': 1}\n",
      "\n",
      "=== ESTATÍSTICAS DESCRITIVAS ===\n",
      "       Investimento (€)  Progresso (%)  Duracao_meses\n",
      "count          4.000000       4.000000       4.000000\n",
      "mean      103750.000000      63.750000       5.775000\n",
      "std        39449.334595      38.595121       4.547802\n",
      "min        60000.000000      10.000000      -1.000000\n",
      "25%        78750.000000      51.250000       5.300000\n",
      "50%       102500.000000      72.500000       7.700000\n",
      "75%       127500.000000      85.000000       8.175000\n",
      "max       150000.000000     100.000000       8.700000\n"
     ]
    }
   ],
   "source": [
    "# Conversão de tipos de dados e criação de variáveis derivadas\n",
    "df['Data_Inicio'] = pd.to_datetime(df['Data_Inicio'])\n",
    "df['Data_Fim'] = pd.to_datetime(df['Data_Fim'])\n",
    "\n",
    "# Cálculo da duração dos projetos\n",
    "df['Duracao_meses'] = ((df['Data_Fim'] - df['Data_Inicio']).dt.days / 30.44).round(1)\n",
    "\n",
    "# Categorização do investimento\n",
    "df['Categoria_Investimento'] = pd.cut(df['Investimento (€)'], \n",
    "                                     bins=[0, 75000, 125000, float('inf')], \n",
    "                                     labels=['Baixo', 'Médio', 'Alto'])\n",
    "\n",
    "# Status ordenado para análises\n",
    "status_order = ['Planeado', 'Em Andamento', 'Concluído']\n",
    "df['Status'] = pd.Categorical(df['Status'], categories=status_order, ordered=True)\n",
    "\n",
    "print(\"=== DADOS APÓS PROCESSAMENTO ===\")\n",
    "print(f\"Nova coluna 'Duracao_meses': {df['Duracao_meses'].tolist()}\")\n",
    "print(f\"Categorias de investimento: {df['Categoria_Investimento'].value_counts().to_dict()}\")\n",
    "print(\"\\n=== ESTATÍSTICAS DESCRITIVAS ===\")\n",
    "print(df[['Investimento (€)', 'Progresso (%)', 'Duracao_meses']].describe())"
   ]
  },
  {
   "cell_type": "markdown",
   "id": "93d0c0e5",
   "metadata": {},
   "source": [
    "## 2. Análise Univariada\n",
    "\n",
    "### 2.1 Distribuição dos Investimentos\n",
    "\n",
    "A análise da distribuição dos investimentos revela insights importantes sobre a alocação de recursos da organização."
   ]
  },
  {
   "cell_type": "code",
   "execution_count": 14,
   "id": "445c9084",
   "metadata": {},
   "outputs": [
    {
     "data": {
      "application/vnd.plotly.v1+json": {
       "config": {
        "plotlyServerURL": "https://plot.ly"
       },
       "data": [
        {
         "marker": {
          "color": "lightblue"
         },
         "name": "Investimento",
         "text": [
          "€120,000",
          "€85,000",
          "€60,000",
          "€150,000"
         ],
         "textposition": "outside",
         "type": "bar",
         "x": [
          "Digitalização de Lojas",
          "Sustentabilidade Logística",
          "Análise de Clientes",
          "Plataforma de Pagamentos"
         ],
         "xaxis": "x",
         "y": [
          120000,
          85000,
          60000,
          150000
         ],
         "yaxis": "y"
        },
        {
         "domain": {
          "x": [
           0.55,
           1
          ],
          "y": [
           0.625,
           1
          ]
         },
         "labels": [
          "Financeiro",
          "Logística",
          "Marketing",
          "Operações"
         ],
         "name": "Por Departamento",
         "textinfo": "label+percent",
         "type": "pie",
         "values": [
          150000,
          85000,
          60000,
          120000
         ]
        },
        {
         "domain": {
          "x": [
           0,
           0.45
          ],
          "y": [
           0,
           0.375
          ]
         },
         "labels": [
          "Em Andamento",
          "Planeado",
          "Concluído"
         ],
         "name": "Status",
         "textinfo": "label+value",
         "type": "pie",
         "values": [
          2,
          1,
          1
         ]
        },
        {
         "marker": {
          "color": "lightcoral"
         },
         "name": "Frequência",
         "text": [
          2,
          1,
          1
         ],
         "textposition": "outside",
         "type": "bar",
         "x": [
          "Médio",
          "Baixo",
          "Alto"
         ],
         "xaxis": "x2",
         "y": [
          2,
          1,
          1
         ],
         "yaxis": "y2"
        }
       ],
       "layout": {
        "annotations": [
         {
          "font": {
           "size": 16
          },
          "showarrow": false,
          "text": "Distribuição de Investimentos",
          "x": 0.225,
          "xanchor": "center",
          "xref": "paper",
          "y": 1,
          "yanchor": "bottom",
          "yref": "paper"
         },
         {
          "font": {
           "size": 16
          },
          "showarrow": false,
          "text": "Investimentos por Departamento",
          "x": 0.775,
          "xanchor": "center",
          "xref": "paper",
          "y": 1,
          "yanchor": "bottom",
          "yref": "paper"
         },
         {
          "font": {
           "size": 16
          },
          "showarrow": false,
          "text": "Status dos Projetos",
          "x": 0.225,
          "xanchor": "center",
          "xref": "paper",
          "y": 0.375,
          "yanchor": "bottom",
          "yref": "paper"
         },
         {
          "font": {
           "size": 16
          },
          "showarrow": false,
          "text": "Categorias de Investimento",
          "x": 0.775,
          "xanchor": "center",
          "xref": "paper",
          "y": 0.375,
          "yanchor": "bottom",
          "yref": "paper"
         }
        ],
        "height": 800,
        "template": {
         "data": {
          "bar": [
           {
            "error_x": {
             "color": "#2a3f5f"
            },
            "error_y": {
             "color": "#2a3f5f"
            },
            "marker": {
             "line": {
              "color": "#E5ECF6",
              "width": 0.5
             },
             "pattern": {
              "fillmode": "overlay",
              "size": 10,
              "solidity": 0.2
             }
            },
            "type": "bar"
           }
          ],
          "barpolar": [
           {
            "marker": {
             "line": {
              "color": "#E5ECF6",
              "width": 0.5
             },
             "pattern": {
              "fillmode": "overlay",
              "size": 10,
              "solidity": 0.2
             }
            },
            "type": "barpolar"
           }
          ],
          "carpet": [
           {
            "aaxis": {
             "endlinecolor": "#2a3f5f",
             "gridcolor": "white",
             "linecolor": "white",
             "minorgridcolor": "white",
             "startlinecolor": "#2a3f5f"
            },
            "baxis": {
             "endlinecolor": "#2a3f5f",
             "gridcolor": "white",
             "linecolor": "white",
             "minorgridcolor": "white",
             "startlinecolor": "#2a3f5f"
            },
            "type": "carpet"
           }
          ],
          "choropleth": [
           {
            "colorbar": {
             "outlinewidth": 0,
             "ticks": ""
            },
            "type": "choropleth"
           }
          ],
          "contour": [
           {
            "colorbar": {
             "outlinewidth": 0,
             "ticks": ""
            },
            "colorscale": [
             [
              0,
              "#0d0887"
             ],
             [
              0.1111111111111111,
              "#46039f"
             ],
             [
              0.2222222222222222,
              "#7201a8"
             ],
             [
              0.3333333333333333,
              "#9c179e"
             ],
             [
              0.4444444444444444,
              "#bd3786"
             ],
             [
              0.5555555555555556,
              "#d8576b"
             ],
             [
              0.6666666666666666,
              "#ed7953"
             ],
             [
              0.7777777777777778,
              "#fb9f3a"
             ],
             [
              0.8888888888888888,
              "#fdca26"
             ],
             [
              1,
              "#f0f921"
             ]
            ],
            "type": "contour"
           }
          ],
          "contourcarpet": [
           {
            "colorbar": {
             "outlinewidth": 0,
             "ticks": ""
            },
            "type": "contourcarpet"
           }
          ],
          "heatmap": [
           {
            "colorbar": {
             "outlinewidth": 0,
             "ticks": ""
            },
            "colorscale": [
             [
              0,
              "#0d0887"
             ],
             [
              0.1111111111111111,
              "#46039f"
             ],
             [
              0.2222222222222222,
              "#7201a8"
             ],
             [
              0.3333333333333333,
              "#9c179e"
             ],
             [
              0.4444444444444444,
              "#bd3786"
             ],
             [
              0.5555555555555556,
              "#d8576b"
             ],
             [
              0.6666666666666666,
              "#ed7953"
             ],
             [
              0.7777777777777778,
              "#fb9f3a"
             ],
             [
              0.8888888888888888,
              "#fdca26"
             ],
             [
              1,
              "#f0f921"
             ]
            ],
            "type": "heatmap"
           }
          ],
          "heatmapgl": [
           {
            "colorbar": {
             "outlinewidth": 0,
             "ticks": ""
            },
            "colorscale": [
             [
              0,
              "#0d0887"
             ],
             [
              0.1111111111111111,
              "#46039f"
             ],
             [
              0.2222222222222222,
              "#7201a8"
             ],
             [
              0.3333333333333333,
              "#9c179e"
             ],
             [
              0.4444444444444444,
              "#bd3786"
             ],
             [
              0.5555555555555556,
              "#d8576b"
             ],
             [
              0.6666666666666666,
              "#ed7953"
             ],
             [
              0.7777777777777778,
              "#fb9f3a"
             ],
             [
              0.8888888888888888,
              "#fdca26"
             ],
             [
              1,
              "#f0f921"
             ]
            ],
            "type": "heatmapgl"
           }
          ],
          "histogram": [
           {
            "marker": {
             "pattern": {
              "fillmode": "overlay",
              "size": 10,
              "solidity": 0.2
             }
            },
            "type": "histogram"
           }
          ],
          "histogram2d": [
           {
            "colorbar": {
             "outlinewidth": 0,
             "ticks": ""
            },
            "colorscale": [
             [
              0,
              "#0d0887"
             ],
             [
              0.1111111111111111,
              "#46039f"
             ],
             [
              0.2222222222222222,
              "#7201a8"
             ],
             [
              0.3333333333333333,
              "#9c179e"
             ],
             [
              0.4444444444444444,
              "#bd3786"
             ],
             [
              0.5555555555555556,
              "#d8576b"
             ],
             [
              0.6666666666666666,
              "#ed7953"
             ],
             [
              0.7777777777777778,
              "#fb9f3a"
             ],
             [
              0.8888888888888888,
              "#fdca26"
             ],
             [
              1,
              "#f0f921"
             ]
            ],
            "type": "histogram2d"
           }
          ],
          "histogram2dcontour": [
           {
            "colorbar": {
             "outlinewidth": 0,
             "ticks": ""
            },
            "colorscale": [
             [
              0,
              "#0d0887"
             ],
             [
              0.1111111111111111,
              "#46039f"
             ],
             [
              0.2222222222222222,
              "#7201a8"
             ],
             [
              0.3333333333333333,
              "#9c179e"
             ],
             [
              0.4444444444444444,
              "#bd3786"
             ],
             [
              0.5555555555555556,
              "#d8576b"
             ],
             [
              0.6666666666666666,
              "#ed7953"
             ],
             [
              0.7777777777777778,
              "#fb9f3a"
             ],
             [
              0.8888888888888888,
              "#fdca26"
             ],
             [
              1,
              "#f0f921"
             ]
            ],
            "type": "histogram2dcontour"
           }
          ],
          "mesh3d": [
           {
            "colorbar": {
             "outlinewidth": 0,
             "ticks": ""
            },
            "type": "mesh3d"
           }
          ],
          "parcoords": [
           {
            "line": {
             "colorbar": {
              "outlinewidth": 0,
              "ticks": ""
             }
            },
            "type": "parcoords"
           }
          ],
          "pie": [
           {
            "automargin": true,
            "type": "pie"
           }
          ],
          "scatter": [
           {
            "fillpattern": {
             "fillmode": "overlay",
             "size": 10,
             "solidity": 0.2
            },
            "type": "scatter"
           }
          ],
          "scatter3d": [
           {
            "line": {
             "colorbar": {
              "outlinewidth": 0,
              "ticks": ""
             }
            },
            "marker": {
             "colorbar": {
              "outlinewidth": 0,
              "ticks": ""
             }
            },
            "type": "scatter3d"
           }
          ],
          "scattercarpet": [
           {
            "marker": {
             "colorbar": {
              "outlinewidth": 0,
              "ticks": ""
             }
            },
            "type": "scattercarpet"
           }
          ],
          "scattergeo": [
           {
            "marker": {
             "colorbar": {
              "outlinewidth": 0,
              "ticks": ""
             }
            },
            "type": "scattergeo"
           }
          ],
          "scattergl": [
           {
            "marker": {
             "colorbar": {
              "outlinewidth": 0,
              "ticks": ""
             }
            },
            "type": "scattergl"
           }
          ],
          "scattermapbox": [
           {
            "marker": {
             "colorbar": {
              "outlinewidth": 0,
              "ticks": ""
             }
            },
            "type": "scattermapbox"
           }
          ],
          "scatterpolar": [
           {
            "marker": {
             "colorbar": {
              "outlinewidth": 0,
              "ticks": ""
             }
            },
            "type": "scatterpolar"
           }
          ],
          "scatterpolargl": [
           {
            "marker": {
             "colorbar": {
              "outlinewidth": 0,
              "ticks": ""
             }
            },
            "type": "scatterpolargl"
           }
          ],
          "scatterternary": [
           {
            "marker": {
             "colorbar": {
              "outlinewidth": 0,
              "ticks": ""
             }
            },
            "type": "scatterternary"
           }
          ],
          "surface": [
           {
            "colorbar": {
             "outlinewidth": 0,
             "ticks": ""
            },
            "colorscale": [
             [
              0,
              "#0d0887"
             ],
             [
              0.1111111111111111,
              "#46039f"
             ],
             [
              0.2222222222222222,
              "#7201a8"
             ],
             [
              0.3333333333333333,
              "#9c179e"
             ],
             [
              0.4444444444444444,
              "#bd3786"
             ],
             [
              0.5555555555555556,
              "#d8576b"
             ],
             [
              0.6666666666666666,
              "#ed7953"
             ],
             [
              0.7777777777777778,
              "#fb9f3a"
             ],
             [
              0.8888888888888888,
              "#fdca26"
             ],
             [
              1,
              "#f0f921"
             ]
            ],
            "type": "surface"
           }
          ],
          "table": [
           {
            "cells": {
             "fill": {
              "color": "#EBF0F8"
             },
             "line": {
              "color": "white"
             }
            },
            "header": {
             "fill": {
              "color": "#C8D4E3"
             },
             "line": {
              "color": "white"
             }
            },
            "type": "table"
           }
          ]
         },
         "layout": {
          "annotationdefaults": {
           "arrowcolor": "#2a3f5f",
           "arrowhead": 0,
           "arrowwidth": 1
          },
          "autotypenumbers": "strict",
          "coloraxis": {
           "colorbar": {
            "outlinewidth": 0,
            "ticks": ""
           }
          },
          "colorscale": {
           "diverging": [
            [
             0,
             "#8e0152"
            ],
            [
             0.1,
             "#c51b7d"
            ],
            [
             0.2,
             "#de77ae"
            ],
            [
             0.3,
             "#f1b6da"
            ],
            [
             0.4,
             "#fde0ef"
            ],
            [
             0.5,
             "#f7f7f7"
            ],
            [
             0.6,
             "#e6f5d0"
            ],
            [
             0.7,
             "#b8e186"
            ],
            [
             0.8,
             "#7fbc41"
            ],
            [
             0.9,
             "#4d9221"
            ],
            [
             1,
             "#276419"
            ]
           ],
           "sequential": [
            [
             0,
             "#0d0887"
            ],
            [
             0.1111111111111111,
             "#46039f"
            ],
            [
             0.2222222222222222,
             "#7201a8"
            ],
            [
             0.3333333333333333,
             "#9c179e"
            ],
            [
             0.4444444444444444,
             "#bd3786"
            ],
            [
             0.5555555555555556,
             "#d8576b"
            ],
            [
             0.6666666666666666,
             "#ed7953"
            ],
            [
             0.7777777777777778,
             "#fb9f3a"
            ],
            [
             0.8888888888888888,
             "#fdca26"
            ],
            [
             1,
             "#f0f921"
            ]
           ],
           "sequentialminus": [
            [
             0,
             "#0d0887"
            ],
            [
             0.1111111111111111,
             "#46039f"
            ],
            [
             0.2222222222222222,
             "#7201a8"
            ],
            [
             0.3333333333333333,
             "#9c179e"
            ],
            [
             0.4444444444444444,
             "#bd3786"
            ],
            [
             0.5555555555555556,
             "#d8576b"
            ],
            [
             0.6666666666666666,
             "#ed7953"
            ],
            [
             0.7777777777777778,
             "#fb9f3a"
            ],
            [
             0.8888888888888888,
             "#fdca26"
            ],
            [
             1,
             "#f0f921"
            ]
           ]
          },
          "colorway": [
           "#636efa",
           "#EF553B",
           "#00cc96",
           "#ab63fa",
           "#FFA15A",
           "#19d3f3",
           "#FF6692",
           "#B6E880",
           "#FF97FF",
           "#FECB52"
          ],
          "font": {
           "color": "#2a3f5f"
          },
          "geo": {
           "bgcolor": "white",
           "lakecolor": "white",
           "landcolor": "#E5ECF6",
           "showlakes": true,
           "showland": true,
           "subunitcolor": "white"
          },
          "hoverlabel": {
           "align": "left"
          },
          "hovermode": "closest",
          "mapbox": {
           "style": "light"
          },
          "paper_bgcolor": "white",
          "plot_bgcolor": "#E5ECF6",
          "polar": {
           "angularaxis": {
            "gridcolor": "white",
            "linecolor": "white",
            "ticks": ""
           },
           "bgcolor": "#E5ECF6",
           "radialaxis": {
            "gridcolor": "white",
            "linecolor": "white",
            "ticks": ""
           }
          },
          "scene": {
           "xaxis": {
            "backgroundcolor": "#E5ECF6",
            "gridcolor": "white",
            "gridwidth": 2,
            "linecolor": "white",
            "showbackground": true,
            "ticks": "",
            "zerolinecolor": "white"
           },
           "yaxis": {
            "backgroundcolor": "#E5ECF6",
            "gridcolor": "white",
            "gridwidth": 2,
            "linecolor": "white",
            "showbackground": true,
            "ticks": "",
            "zerolinecolor": "white"
           },
           "zaxis": {
            "backgroundcolor": "#E5ECF6",
            "gridcolor": "white",
            "gridwidth": 2,
            "linecolor": "white",
            "showbackground": true,
            "ticks": "",
            "zerolinecolor": "white"
           }
          },
          "shapedefaults": {
           "line": {
            "color": "#2a3f5f"
           }
          },
          "ternary": {
           "aaxis": {
            "gridcolor": "white",
            "linecolor": "white",
            "ticks": ""
           },
           "baxis": {
            "gridcolor": "white",
            "linecolor": "white",
            "ticks": ""
           },
           "bgcolor": "#E5ECF6",
           "caxis": {
            "gridcolor": "white",
            "linecolor": "white",
            "ticks": ""
           }
          },
          "title": {
           "x": 0.05
          },
          "xaxis": {
           "automargin": true,
           "gridcolor": "white",
           "linecolor": "white",
           "ticks": "",
           "title": {
            "standoff": 15
           },
           "zerolinecolor": "white",
           "zerolinewidth": 2
          },
          "yaxis": {
           "automargin": true,
           "gridcolor": "white",
           "linecolor": "white",
           "ticks": "",
           "title": {
            "standoff": 15
           },
           "zerolinecolor": "white",
           "zerolinewidth": 2
          }
         }
        },
        "title": {
         "text": "Análise Univariada - Visão Geral dos Projetos"
        },
        "xaxis": {
         "anchor": "y",
         "domain": [
          0,
          0.45
         ]
        },
        "xaxis2": {
         "anchor": "y2",
         "domain": [
          0.55,
          1
         ]
        },
        "yaxis": {
         "anchor": "x",
         "domain": [
          0.625,
          1
         ]
        },
        "yaxis2": {
         "anchor": "x2",
         "domain": [
          0,
          0.375
         ]
        }
       }
      }
     },
     "metadata": {},
     "output_type": "display_data"
    },
    {
     "name": "stdout",
     "output_type": "stream",
     "text": [
      "=== ANÁLISE UNIVARIADA - PRINCIPAIS ACHADOS ===\n",
      "• Investimento total do portfólio: €415,000\n",
      "• Investimento médio por projeto: €103,750\n",
      "• Departamento com maior investimento: Financeiro (€150,000)\n",
      "• Duração média dos projetos: 5.8 meses\n"
     ]
    }
   ],
   "source": [
    "# Análise univariada - Distribuição dos investimentos\n",
    "fig = make_subplots(\n",
    "    rows=2, cols=2,\n",
    "    subplot_titles=['Distribuição de Investimentos', 'Investimentos por Departamento', \n",
    "                   'Status dos Projetos', 'Categorias de Investimento'],\n",
    "    specs=[[{\"type\": \"bar\"}, {\"type\": \"pie\"}],\n",
    "           [{\"type\": \"pie\"}, {\"type\": \"bar\"}]]\n",
    ")\n",
    "\n",
    "# Gráfico 1: Investimentos por projeto\n",
    "fig.add_trace(\n",
    "    go.Bar(x=df['Projeto'], \n",
    "           y=df['Investimento (€)'],\n",
    "           text=df['Investimento (€)'].apply(lambda x: f'€{x:,.0f}'),\n",
    "           textposition='outside',\n",
    "           marker_color='lightblue',\n",
    "           name='Investimento'),\n",
    "    row=1, col=1\n",
    ")\n",
    "\n",
    "# Gráfico 2: Distribuição por departamento\n",
    "dept_invest = df.groupby('Departamento')['Investimento (€)'].sum()\n",
    "fig.add_trace(\n",
    "    go.Pie(labels=dept_invest.index, \n",
    "           values=dept_invest.values,\n",
    "           textinfo='label+percent',\n",
    "           name=\"Por Departamento\"),\n",
    "    row=1, col=2\n",
    ")\n",
    "\n",
    "# Gráfico 3: Status dos projetos\n",
    "status_counts = df['Status'].value_counts()\n",
    "fig.add_trace(\n",
    "    go.Pie(labels=status_counts.index, \n",
    "           values=status_counts.values,\n",
    "           textinfo='label+value',\n",
    "           name=\"Status\"),\n",
    "    row=2, col=1\n",
    ")\n",
    "\n",
    "# Gráfico 4: Categorias de investimento\n",
    "cat_counts = df['Categoria_Investimento'].value_counts()\n",
    "fig.add_trace(\n",
    "    go.Bar(x=cat_counts.index, \n",
    "           y=cat_counts.values,\n",
    "           text=cat_counts.values,\n",
    "           textposition='outside',\n",
    "           marker_color='lightcoral',\n",
    "           name='Frequência'),\n",
    "    row=2, col=2\n",
    ")\n",
    "\n",
    "fig.update_layout(height=800, title_text=\"Análise Univariada - Visão Geral dos Projetos\")\n",
    "fig.show()\n",
    "\n",
    "# Estatísticas complementares\n",
    "print(\"=== ANÁLISE UNIVARIADA - PRINCIPAIS ACHADOS ===\")\n",
    "print(f\"• Investimento total do portfólio: €{df['Investimento (€)'].sum():,}\")\n",
    "print(f\"• Investimento médio por projeto: €{df['Investimento (€)'].mean():,.0f}\")\n",
    "print(f\"• Departamento com maior investimento: {dept_invest.idxmax()} (€{dept_invest.max():,})\")\n",
    "print(f\"• Duração média dos projetos: {df['Duracao_meses'].mean():.1f} meses\")"
   ]
  },
  {
   "cell_type": "markdown",
   "id": "b593f001",
   "metadata": {},
   "source": [
    "## 3. Análise Bivariada\n",
    "\n",
    "### 3.1 Relação entre Investimento e Progresso\n",
    "\n",
    "Uma questão fundamental na gestão de projetos é compreender se existe correlação entre o valor investido e o progresso alcançado."
   ]
  },
  {
   "cell_type": "code",
   "execution_count": 15,
   "id": "692d7dd7",
   "metadata": {},
   "outputs": [
    {
     "data": {
      "application/vnd.plotly.v1+json": {
       "config": {
        "plotlyServerURL": "https://plot.ly"
       },
       "data": [
        {
         "marker": {
          "color": "blue",
          "opacity": 0.7,
          "size": 12
         },
         "mode": "markers+text",
         "name": "Projetos",
         "text": [
          "Digitalização de Lojas",
          "Sustentabilidade Logística",
          "Análise de Clientes",
          "Plataforma de Pagamentos"
         ],
         "textposition": "top center",
         "type": "scatter",
         "x": [
          120000,
          85000,
          60000,
          150000
         ],
         "xaxis": "x",
         "y": [
          100,
          65,
          10,
          80
         ],
         "yaxis": "y"
        },
        {
         "marker": {
          "color": "red",
          "opacity": 0.7,
          "size": 12
         },
         "mode": "markers+text",
         "name": "Duração",
         "text": [
          "Digitalização de Lojas",
          "Sustentabilidade Logística",
          "Análise de Clientes",
          "Plataforma de Pagamentos"
         ],
         "textposition": "top center",
         "type": "scatter",
         "x": [
          7.4,
          8.7,
          8,
          -1
         ],
         "xaxis": "x2",
         "y": [
          100,
          65,
          10,
          80
         ],
         "yaxis": "y2"
        },
        {
         "marker": {
          "color": "lightgreen"
         },
         "name": "Duração",
         "orientation": "h",
         "showlegend": false,
         "text": [
          "7.4m",
          "8.7m",
          "8.0m",
          "-1.0m"
         ],
         "textposition": "outside",
         "type": "bar",
         "x": [
          7.4,
          8.7,
          8,
          -1
         ],
         "xaxis": "x3",
         "y": [
          "Digitalização de Lojas",
          "Sustentabilidade Logística",
          "Análise de Clientes",
          "Plataforma de Pagamentos"
         ],
         "yaxis": "y3"
        },
        {
         "boxpoints": "all",
         "jitter": 0.3,
         "name": "Concluído",
         "showlegend": false,
         "type": "box",
         "xaxis": "x4",
         "y": [
          120000
         ],
         "yaxis": "y4"
        },
        {
         "boxpoints": "all",
         "jitter": 0.3,
         "name": "Em Andamento",
         "showlegend": false,
         "type": "box",
         "xaxis": "x4",
         "y": [
          85000,
          150000
         ],
         "yaxis": "y4"
        },
        {
         "boxpoints": "all",
         "jitter": 0.3,
         "name": "Planeado",
         "showlegend": false,
         "type": "box",
         "xaxis": "x4",
         "y": [
          60000
         ],
         "yaxis": "y4"
        }
       ],
       "layout": {
        "annotations": [
         {
          "font": {
           "size": 16
          },
          "showarrow": false,
          "text": "Investimento vs Progresso",
          "x": 0.225,
          "xanchor": "center",
          "xref": "paper",
          "y": 1,
          "yanchor": "bottom",
          "yref": "paper"
         },
         {
          "font": {
           "size": 16
          },
          "showarrow": false,
          "text": "Duração vs Progresso",
          "x": 0.775,
          "xanchor": "center",
          "xref": "paper",
          "y": 1,
          "yanchor": "bottom",
          "yref": "paper"
         },
         {
          "font": {
           "size": 16
          },
          "showarrow": false,
          "text": "Timeline dos Projetos",
          "x": 0.225,
          "xanchor": "center",
          "xref": "paper",
          "y": 0.375,
          "yanchor": "bottom",
          "yref": "paper"
         },
         {
          "font": {
           "size": 16
          },
          "showarrow": false,
          "text": "Investimento por Status",
          "x": 0.775,
          "xanchor": "center",
          "xref": "paper",
          "y": 0.375,
          "yanchor": "bottom",
          "yref": "paper"
         }
        ],
        "height": 800,
        "template": {
         "data": {
          "bar": [
           {
            "error_x": {
             "color": "#2a3f5f"
            },
            "error_y": {
             "color": "#2a3f5f"
            },
            "marker": {
             "line": {
              "color": "#E5ECF6",
              "width": 0.5
             },
             "pattern": {
              "fillmode": "overlay",
              "size": 10,
              "solidity": 0.2
             }
            },
            "type": "bar"
           }
          ],
          "barpolar": [
           {
            "marker": {
             "line": {
              "color": "#E5ECF6",
              "width": 0.5
             },
             "pattern": {
              "fillmode": "overlay",
              "size": 10,
              "solidity": 0.2
             }
            },
            "type": "barpolar"
           }
          ],
          "carpet": [
           {
            "aaxis": {
             "endlinecolor": "#2a3f5f",
             "gridcolor": "white",
             "linecolor": "white",
             "minorgridcolor": "white",
             "startlinecolor": "#2a3f5f"
            },
            "baxis": {
             "endlinecolor": "#2a3f5f",
             "gridcolor": "white",
             "linecolor": "white",
             "minorgridcolor": "white",
             "startlinecolor": "#2a3f5f"
            },
            "type": "carpet"
           }
          ],
          "choropleth": [
           {
            "colorbar": {
             "outlinewidth": 0,
             "ticks": ""
            },
            "type": "choropleth"
           }
          ],
          "contour": [
           {
            "colorbar": {
             "outlinewidth": 0,
             "ticks": ""
            },
            "colorscale": [
             [
              0,
              "#0d0887"
             ],
             [
              0.1111111111111111,
              "#46039f"
             ],
             [
              0.2222222222222222,
              "#7201a8"
             ],
             [
              0.3333333333333333,
              "#9c179e"
             ],
             [
              0.4444444444444444,
              "#bd3786"
             ],
             [
              0.5555555555555556,
              "#d8576b"
             ],
             [
              0.6666666666666666,
              "#ed7953"
             ],
             [
              0.7777777777777778,
              "#fb9f3a"
             ],
             [
              0.8888888888888888,
              "#fdca26"
             ],
             [
              1,
              "#f0f921"
             ]
            ],
            "type": "contour"
           }
          ],
          "contourcarpet": [
           {
            "colorbar": {
             "outlinewidth": 0,
             "ticks": ""
            },
            "type": "contourcarpet"
           }
          ],
          "heatmap": [
           {
            "colorbar": {
             "outlinewidth": 0,
             "ticks": ""
            },
            "colorscale": [
             [
              0,
              "#0d0887"
             ],
             [
              0.1111111111111111,
              "#46039f"
             ],
             [
              0.2222222222222222,
              "#7201a8"
             ],
             [
              0.3333333333333333,
              "#9c179e"
             ],
             [
              0.4444444444444444,
              "#bd3786"
             ],
             [
              0.5555555555555556,
              "#d8576b"
             ],
             [
              0.6666666666666666,
              "#ed7953"
             ],
             [
              0.7777777777777778,
              "#fb9f3a"
             ],
             [
              0.8888888888888888,
              "#fdca26"
             ],
             [
              1,
              "#f0f921"
             ]
            ],
            "type": "heatmap"
           }
          ],
          "heatmapgl": [
           {
            "colorbar": {
             "outlinewidth": 0,
             "ticks": ""
            },
            "colorscale": [
             [
              0,
              "#0d0887"
             ],
             [
              0.1111111111111111,
              "#46039f"
             ],
             [
              0.2222222222222222,
              "#7201a8"
             ],
             [
              0.3333333333333333,
              "#9c179e"
             ],
             [
              0.4444444444444444,
              "#bd3786"
             ],
             [
              0.5555555555555556,
              "#d8576b"
             ],
             [
              0.6666666666666666,
              "#ed7953"
             ],
             [
              0.7777777777777778,
              "#fb9f3a"
             ],
             [
              0.8888888888888888,
              "#fdca26"
             ],
             [
              1,
              "#f0f921"
             ]
            ],
            "type": "heatmapgl"
           }
          ],
          "histogram": [
           {
            "marker": {
             "pattern": {
              "fillmode": "overlay",
              "size": 10,
              "solidity": 0.2
             }
            },
            "type": "histogram"
           }
          ],
          "histogram2d": [
           {
            "colorbar": {
             "outlinewidth": 0,
             "ticks": ""
            },
            "colorscale": [
             [
              0,
              "#0d0887"
             ],
             [
              0.1111111111111111,
              "#46039f"
             ],
             [
              0.2222222222222222,
              "#7201a8"
             ],
             [
              0.3333333333333333,
              "#9c179e"
             ],
             [
              0.4444444444444444,
              "#bd3786"
             ],
             [
              0.5555555555555556,
              "#d8576b"
             ],
             [
              0.6666666666666666,
              "#ed7953"
             ],
             [
              0.7777777777777778,
              "#fb9f3a"
             ],
             [
              0.8888888888888888,
              "#fdca26"
             ],
             [
              1,
              "#f0f921"
             ]
            ],
            "type": "histogram2d"
           }
          ],
          "histogram2dcontour": [
           {
            "colorbar": {
             "outlinewidth": 0,
             "ticks": ""
            },
            "colorscale": [
             [
              0,
              "#0d0887"
             ],
             [
              0.1111111111111111,
              "#46039f"
             ],
             [
              0.2222222222222222,
              "#7201a8"
             ],
             [
              0.3333333333333333,
              "#9c179e"
             ],
             [
              0.4444444444444444,
              "#bd3786"
             ],
             [
              0.5555555555555556,
              "#d8576b"
             ],
             [
              0.6666666666666666,
              "#ed7953"
             ],
             [
              0.7777777777777778,
              "#fb9f3a"
             ],
             [
              0.8888888888888888,
              "#fdca26"
             ],
             [
              1,
              "#f0f921"
             ]
            ],
            "type": "histogram2dcontour"
           }
          ],
          "mesh3d": [
           {
            "colorbar": {
             "outlinewidth": 0,
             "ticks": ""
            },
            "type": "mesh3d"
           }
          ],
          "parcoords": [
           {
            "line": {
             "colorbar": {
              "outlinewidth": 0,
              "ticks": ""
             }
            },
            "type": "parcoords"
           }
          ],
          "pie": [
           {
            "automargin": true,
            "type": "pie"
           }
          ],
          "scatter": [
           {
            "fillpattern": {
             "fillmode": "overlay",
             "size": 10,
             "solidity": 0.2
            },
            "type": "scatter"
           }
          ],
          "scatter3d": [
           {
            "line": {
             "colorbar": {
              "outlinewidth": 0,
              "ticks": ""
             }
            },
            "marker": {
             "colorbar": {
              "outlinewidth": 0,
              "ticks": ""
             }
            },
            "type": "scatter3d"
           }
          ],
          "scattercarpet": [
           {
            "marker": {
             "colorbar": {
              "outlinewidth": 0,
              "ticks": ""
             }
            },
            "type": "scattercarpet"
           }
          ],
          "scattergeo": [
           {
            "marker": {
             "colorbar": {
              "outlinewidth": 0,
              "ticks": ""
             }
            },
            "type": "scattergeo"
           }
          ],
          "scattergl": [
           {
            "marker": {
             "colorbar": {
              "outlinewidth": 0,
              "ticks": ""
             }
            },
            "type": "scattergl"
           }
          ],
          "scattermapbox": [
           {
            "marker": {
             "colorbar": {
              "outlinewidth": 0,
              "ticks": ""
             }
            },
            "type": "scattermapbox"
           }
          ],
          "scatterpolar": [
           {
            "marker": {
             "colorbar": {
              "outlinewidth": 0,
              "ticks": ""
             }
            },
            "type": "scatterpolar"
           }
          ],
          "scatterpolargl": [
           {
            "marker": {
             "colorbar": {
              "outlinewidth": 0,
              "ticks": ""
             }
            },
            "type": "scatterpolargl"
           }
          ],
          "scatterternary": [
           {
            "marker": {
             "colorbar": {
              "outlinewidth": 0,
              "ticks": ""
             }
            },
            "type": "scatterternary"
           }
          ],
          "surface": [
           {
            "colorbar": {
             "outlinewidth": 0,
             "ticks": ""
            },
            "colorscale": [
             [
              0,
              "#0d0887"
             ],
             [
              0.1111111111111111,
              "#46039f"
             ],
             [
              0.2222222222222222,
              "#7201a8"
             ],
             [
              0.3333333333333333,
              "#9c179e"
             ],
             [
              0.4444444444444444,
              "#bd3786"
             ],
             [
              0.5555555555555556,
              "#d8576b"
             ],
             [
              0.6666666666666666,
              "#ed7953"
             ],
             [
              0.7777777777777778,
              "#fb9f3a"
             ],
             [
              0.8888888888888888,
              "#fdca26"
             ],
             [
              1,
              "#f0f921"
             ]
            ],
            "type": "surface"
           }
          ],
          "table": [
           {
            "cells": {
             "fill": {
              "color": "#EBF0F8"
             },
             "line": {
              "color": "white"
             }
            },
            "header": {
             "fill": {
              "color": "#C8D4E3"
             },
             "line": {
              "color": "white"
             }
            },
            "type": "table"
           }
          ]
         },
         "layout": {
          "annotationdefaults": {
           "arrowcolor": "#2a3f5f",
           "arrowhead": 0,
           "arrowwidth": 1
          },
          "autotypenumbers": "strict",
          "coloraxis": {
           "colorbar": {
            "outlinewidth": 0,
            "ticks": ""
           }
          },
          "colorscale": {
           "diverging": [
            [
             0,
             "#8e0152"
            ],
            [
             0.1,
             "#c51b7d"
            ],
            [
             0.2,
             "#de77ae"
            ],
            [
             0.3,
             "#f1b6da"
            ],
            [
             0.4,
             "#fde0ef"
            ],
            [
             0.5,
             "#f7f7f7"
            ],
            [
             0.6,
             "#e6f5d0"
            ],
            [
             0.7,
             "#b8e186"
            ],
            [
             0.8,
             "#7fbc41"
            ],
            [
             0.9,
             "#4d9221"
            ],
            [
             1,
             "#276419"
            ]
           ],
           "sequential": [
            [
             0,
             "#0d0887"
            ],
            [
             0.1111111111111111,
             "#46039f"
            ],
            [
             0.2222222222222222,
             "#7201a8"
            ],
            [
             0.3333333333333333,
             "#9c179e"
            ],
            [
             0.4444444444444444,
             "#bd3786"
            ],
            [
             0.5555555555555556,
             "#d8576b"
            ],
            [
             0.6666666666666666,
             "#ed7953"
            ],
            [
             0.7777777777777778,
             "#fb9f3a"
            ],
            [
             0.8888888888888888,
             "#fdca26"
            ],
            [
             1,
             "#f0f921"
            ]
           ],
           "sequentialminus": [
            [
             0,
             "#0d0887"
            ],
            [
             0.1111111111111111,
             "#46039f"
            ],
            [
             0.2222222222222222,
             "#7201a8"
            ],
            [
             0.3333333333333333,
             "#9c179e"
            ],
            [
             0.4444444444444444,
             "#bd3786"
            ],
            [
             0.5555555555555556,
             "#d8576b"
            ],
            [
             0.6666666666666666,
             "#ed7953"
            ],
            [
             0.7777777777777778,
             "#fb9f3a"
            ],
            [
             0.8888888888888888,
             "#fdca26"
            ],
            [
             1,
             "#f0f921"
            ]
           ]
          },
          "colorway": [
           "#636efa",
           "#EF553B",
           "#00cc96",
           "#ab63fa",
           "#FFA15A",
           "#19d3f3",
           "#FF6692",
           "#B6E880",
           "#FF97FF",
           "#FECB52"
          ],
          "font": {
           "color": "#2a3f5f"
          },
          "geo": {
           "bgcolor": "white",
           "lakecolor": "white",
           "landcolor": "#E5ECF6",
           "showlakes": true,
           "showland": true,
           "subunitcolor": "white"
          },
          "hoverlabel": {
           "align": "left"
          },
          "hovermode": "closest",
          "mapbox": {
           "style": "light"
          },
          "paper_bgcolor": "white",
          "plot_bgcolor": "#E5ECF6",
          "polar": {
           "angularaxis": {
            "gridcolor": "white",
            "linecolor": "white",
            "ticks": ""
           },
           "bgcolor": "#E5ECF6",
           "radialaxis": {
            "gridcolor": "white",
            "linecolor": "white",
            "ticks": ""
           }
          },
          "scene": {
           "xaxis": {
            "backgroundcolor": "#E5ECF6",
            "gridcolor": "white",
            "gridwidth": 2,
            "linecolor": "white",
            "showbackground": true,
            "ticks": "",
            "zerolinecolor": "white"
           },
           "yaxis": {
            "backgroundcolor": "#E5ECF6",
            "gridcolor": "white",
            "gridwidth": 2,
            "linecolor": "white",
            "showbackground": true,
            "ticks": "",
            "zerolinecolor": "white"
           },
           "zaxis": {
            "backgroundcolor": "#E5ECF6",
            "gridcolor": "white",
            "gridwidth": 2,
            "linecolor": "white",
            "showbackground": true,
            "ticks": "",
            "zerolinecolor": "white"
           }
          },
          "shapedefaults": {
           "line": {
            "color": "#2a3f5f"
           }
          },
          "ternary": {
           "aaxis": {
            "gridcolor": "white",
            "linecolor": "white",
            "ticks": ""
           },
           "baxis": {
            "gridcolor": "white",
            "linecolor": "white",
            "ticks": ""
           },
           "bgcolor": "#E5ECF6",
           "caxis": {
            "gridcolor": "white",
            "linecolor": "white",
            "ticks": ""
           }
          },
          "title": {
           "x": 0.05
          },
          "xaxis": {
           "automargin": true,
           "gridcolor": "white",
           "linecolor": "white",
           "ticks": "",
           "title": {
            "standoff": 15
           },
           "zerolinecolor": "white",
           "zerolinewidth": 2
          },
          "yaxis": {
           "automargin": true,
           "gridcolor": "white",
           "linecolor": "white",
           "ticks": "",
           "title": {
            "standoff": 15
           },
           "zerolinecolor": "white",
           "zerolinewidth": 2
          }
         }
        },
        "title": {
         "text": "Análise Bivariada - Relacionamentos entre Variáveis"
        },
        "xaxis": {
         "anchor": "y",
         "domain": [
          0,
          0.45
         ],
         "title": {
          "text": "Investimento (€)"
         }
        },
        "xaxis2": {
         "anchor": "y2",
         "domain": [
          0.55,
          1
         ],
         "title": {
          "text": "Duração (meses)"
         }
        },
        "xaxis3": {
         "anchor": "y3",
         "domain": [
          0,
          0.45
         ],
         "title": {
          "text": "Duração (meses)"
         }
        },
        "xaxis4": {
         "anchor": "y4",
         "domain": [
          0.55,
          1
         ],
         "title": {
          "text": "Status"
         }
        },
        "yaxis": {
         "anchor": "x",
         "domain": [
          0.625,
          1
         ],
         "title": {
          "text": "Progresso (%)"
         }
        },
        "yaxis2": {
         "anchor": "x2",
         "domain": [
          0.625,
          1
         ],
         "title": {
          "text": "Progresso (%)"
         }
        },
        "yaxis3": {
         "anchor": "x3",
         "domain": [
          0,
          0.375
         ],
         "title": {
          "text": "Projeto"
         }
        },
        "yaxis4": {
         "anchor": "x4",
         "domain": [
          0,
          0.375
         ],
         "title": {
          "text": "Investimento (€)"
         }
        }
       }
      }
     },
     "metadata": {},
     "output_type": "display_data"
    },
    {
     "name": "stdout",
     "output_type": "stream",
     "text": [
      "=== ANÁLISE DE CORRELAÇÕES ===\n",
      "• Correlação Investimento vs Progresso: 0.803\n",
      "• Correlação Duração vs Progresso: -0.317\n",
      "• Interpretação: Correlação fraca/inexistente entre investimento e progresso\n",
      "• Observação: Projetos de maior duração tendem a ter menor progresso atual\n"
     ]
    }
   ],
   "source": [
    "# Análise bivariada - Correlações e relacionamentos\n",
    "fig = make_subplots(\n",
    "    rows=2, cols=2,\n",
    "    subplot_titles=['Investimento vs Progresso', 'Duração vs Progresso', \n",
    "                   'Timeline dos Projetos', 'Investimento por Status'],\n",
    "    specs=[[{\"type\": \"scatter\"}, {\"type\": \"scatter\"}],\n",
    "           [{\"type\": \"bar\"}, {\"type\": \"box\"}]]\n",
    ")\n",
    "\n",
    "# Scatter 1: Investimento vs Progresso\n",
    "fig.add_trace(\n",
    "    go.Scatter(x=df['Investimento (€)'], \n",
    "               y=df['Progresso (%)'],\n",
    "               text=df['Projeto'],\n",
    "               mode='markers+text',\n",
    "               textposition='top center',\n",
    "               marker=dict(size=12, color='blue', opacity=0.7),\n",
    "               name='Projetos'),\n",
    "    row=1, col=1\n",
    ")\n",
    "\n",
    "# Scatter 2: Duração vs Progresso\n",
    "fig.add_trace(\n",
    "    go.Scatter(x=df['Duracao_meses'], \n",
    "               y=df['Progresso (%)'],\n",
    "               text=df['Projeto'],\n",
    "               mode='markers+text',\n",
    "               textposition='top center',\n",
    "               marker=dict(size=12, color='red', opacity=0.7),\n",
    "               name='Duração'),\n",
    "    row=1, col=2\n",
    ")\n",
    "\n",
    "# Timeline dos projetos (barras horizontais)\n",
    "fig.add_trace(\n",
    "    go.Bar(x=df['Duracao_meses'], \n",
    "           y=df['Projeto'],\n",
    "           orientation='h',\n",
    "           text=df['Duracao_meses'].apply(lambda x: f\"{x:.1f}m\"),\n",
    "           textposition='outside',\n",
    "           marker_color='lightgreen',\n",
    "           name='Duração',\n",
    "           showlegend=False),\n",
    "    row=2, col=1\n",
    ")\n",
    "\n",
    "# Box plot: Investimento por Status\n",
    "for status in df['Status'].unique():\n",
    "    status_data = df[df['Status'] == status]\n",
    "    fig.add_trace(\n",
    "        go.Box(y=status_data['Investimento (€)'],\n",
    "               name=status,\n",
    "               boxpoints='all',\n",
    "               jitter=0.3,\n",
    "               showlegend=False),\n",
    "        row=2, col=2\n",
    "    )\n",
    "\n",
    "fig.update_layout(height=800, title_text=\"Análise Bivariada - Relacionamentos entre Variáveis\")\n",
    "fig.update_xaxes(title_text=\"Investimento (€)\", row=1, col=1)\n",
    "fig.update_yaxes(title_text=\"Progresso (%)\", row=1, col=1)\n",
    "fig.update_xaxes(title_text=\"Duração (meses)\", row=1, col=2)\n",
    "fig.update_yaxes(title_text=\"Progresso (%)\", row=1, col=2)\n",
    "fig.update_xaxes(title_text=\"Duração (meses)\", row=2, col=1)\n",
    "fig.update_yaxes(title_text=\"Projeto\", row=2, col=1)\n",
    "fig.update_xaxes(title_text=\"Status\", row=2, col=2)\n",
    "fig.update_yaxes(title_text=\"Investimento (€)\", row=2, col=2)\n",
    "\n",
    "fig.show()\n",
    "\n",
    "# Cálculo de correlações\n",
    "correlacao_invest_progresso = df['Investimento (€)'].corr(df['Progresso (%)'])\n",
    "correlacao_duracao_progresso = df['Duracao_meses'].corr(df['Progresso (%)'])\n",
    "\n",
    "print(\"=== ANÁLISE DE CORRELAÇÕES ===\")\n",
    "print(f\"• Correlação Investimento vs Progresso: {correlacao_invest_progresso:.3f}\")\n",
    "print(f\"• Correlação Duração vs Progresso: {correlacao_duracao_progresso:.3f}\")\n",
    "print(f\"• Interpretação: Correlação fraca/inexistente entre investimento e progresso\")\n",
    "print(f\"• Observação: Projetos de maior duração tendem a ter menor progresso atual\")"
   ]
  },
  {
   "cell_type": "markdown",
   "id": "50652b84",
   "metadata": {},
   "source": [
    "## 4. Análise Temporal e de Performance\n",
    "\n",
    "### 4.1 Linha do Tempo dos Projetos\n",
    "\n",
    "A análise temporal permite compreender o cronograma de execução e identificar sobreposições de recursos."
   ]
  },
  {
   "cell_type": "code",
   "execution_count": 16,
   "id": "2f72bf31",
   "metadata": {},
   "outputs": [
    {
     "data": {
      "application/vnd.plotly.v1+json": {
       "config": {
        "plotlyServerURL": "https://plot.ly"
       },
       "data": [
        {
         "alignmentgroup": "True",
         "base": [
          "2025-02-01T00:00:00"
         ],
         "customdata": [
          [
           120000,
           100,
           "Ana Silva"
          ]
         ],
         "hovertemplate": "Status=Concluído<br>Data_Inicio=%{base}<br>Data_Fim=%{x}<br>Projeto=%{y}<br>Investimento (€)=%{customdata[0]}<br>Progresso (%)=%{customdata[1]}<br>Responsavel=%{customdata[2]}<extra></extra>",
         "legendgroup": "Concluído",
         "marker": {
          "color": "#636efa",
          "pattern": {
           "shape": ""
          }
         },
         "name": "Concluído",
         "offsetgroup": "Concluído",
         "orientation": "h",
         "showlegend": true,
         "textposition": "auto",
         "type": "bar",
         "x": [
          19526400000
         ],
         "xaxis": "x",
         "y": [
          "Digitalização de Lojas"
         ],
         "yaxis": "y"
        },
        {
         "alignmentgroup": "True",
         "base": [
          "2025-03-10T00:00:00",
          "2025-12-01T00:00:00"
         ],
         "customdata": [
          [
           85000,
           65,
           "Bruno Costa"
          ],
          [
           150000,
           80,
           "Marta Lopes"
          ]
         ],
         "hovertemplate": "Status=Em Andamento<br>Data_Inicio=%{base}<br>Data_Fim=%{x}<br>Projeto=%{y}<br>Investimento (€)=%{customdata[0]}<br>Progresso (%)=%{customdata[1]}<br>Responsavel=%{customdata[2]}<extra></extra>",
         "legendgroup": "Em Andamento",
         "marker": {
          "color": "#EF553B",
          "pattern": {
           "shape": ""
          }
         },
         "name": "Em Andamento",
         "offsetgroup": "Em Andamento",
         "orientation": "h",
         "showlegend": true,
         "textposition": "auto",
         "type": "bar",
         "x": [
          22896000000,
          -2678400000
         ],
         "xaxis": "x",
         "y": [
          "Sustentabilidade Logística",
          "Plataforma de Pagamentos"
         ],
         "yaxis": "y"
        },
        {
         "alignmentgroup": "True",
         "base": [
          "2025-05-01T00:00:00"
         ],
         "customdata": [
          [
           60000,
           10,
           "João Mendes"
          ]
         ],
         "hovertemplate": "Status=Planeado<br>Data_Inicio=%{base}<br>Data_Fim=%{x}<br>Projeto=%{y}<br>Investimento (€)=%{customdata[0]}<br>Progresso (%)=%{customdata[1]}<br>Responsavel=%{customdata[2]}<extra></extra>",
         "legendgroup": "Planeado",
         "marker": {
          "color": "#00cc96",
          "pattern": {
           "shape": ""
          }
         },
         "name": "Planeado",
         "offsetgroup": "Planeado",
         "orientation": "h",
         "showlegend": true,
         "textposition": "auto",
         "type": "bar",
         "x": [
          21081600000
         ],
         "xaxis": "x",
         "y": [
          "Análise de Clientes"
         ],
         "yaxis": "y"
        }
       ],
       "layout": {
        "barmode": "overlay",
        "height": 400,
        "legend": {
         "title": {
          "text": "Status"
         },
         "tracegroupgap": 0
        },
        "template": {
         "data": {
          "bar": [
           {
            "error_x": {
             "color": "#2a3f5f"
            },
            "error_y": {
             "color": "#2a3f5f"
            },
            "marker": {
             "line": {
              "color": "#E5ECF6",
              "width": 0.5
             },
             "pattern": {
              "fillmode": "overlay",
              "size": 10,
              "solidity": 0.2
             }
            },
            "type": "bar"
           }
          ],
          "barpolar": [
           {
            "marker": {
             "line": {
              "color": "#E5ECF6",
              "width": 0.5
             },
             "pattern": {
              "fillmode": "overlay",
              "size": 10,
              "solidity": 0.2
             }
            },
            "type": "barpolar"
           }
          ],
          "carpet": [
           {
            "aaxis": {
             "endlinecolor": "#2a3f5f",
             "gridcolor": "white",
             "linecolor": "white",
             "minorgridcolor": "white",
             "startlinecolor": "#2a3f5f"
            },
            "baxis": {
             "endlinecolor": "#2a3f5f",
             "gridcolor": "white",
             "linecolor": "white",
             "minorgridcolor": "white",
             "startlinecolor": "#2a3f5f"
            },
            "type": "carpet"
           }
          ],
          "choropleth": [
           {
            "colorbar": {
             "outlinewidth": 0,
             "ticks": ""
            },
            "type": "choropleth"
           }
          ],
          "contour": [
           {
            "colorbar": {
             "outlinewidth": 0,
             "ticks": ""
            },
            "colorscale": [
             [
              0,
              "#0d0887"
             ],
             [
              0.1111111111111111,
              "#46039f"
             ],
             [
              0.2222222222222222,
              "#7201a8"
             ],
             [
              0.3333333333333333,
              "#9c179e"
             ],
             [
              0.4444444444444444,
              "#bd3786"
             ],
             [
              0.5555555555555556,
              "#d8576b"
             ],
             [
              0.6666666666666666,
              "#ed7953"
             ],
             [
              0.7777777777777778,
              "#fb9f3a"
             ],
             [
              0.8888888888888888,
              "#fdca26"
             ],
             [
              1,
              "#f0f921"
             ]
            ],
            "type": "contour"
           }
          ],
          "contourcarpet": [
           {
            "colorbar": {
             "outlinewidth": 0,
             "ticks": ""
            },
            "type": "contourcarpet"
           }
          ],
          "heatmap": [
           {
            "colorbar": {
             "outlinewidth": 0,
             "ticks": ""
            },
            "colorscale": [
             [
              0,
              "#0d0887"
             ],
             [
              0.1111111111111111,
              "#46039f"
             ],
             [
              0.2222222222222222,
              "#7201a8"
             ],
             [
              0.3333333333333333,
              "#9c179e"
             ],
             [
              0.4444444444444444,
              "#bd3786"
             ],
             [
              0.5555555555555556,
              "#d8576b"
             ],
             [
              0.6666666666666666,
              "#ed7953"
             ],
             [
              0.7777777777777778,
              "#fb9f3a"
             ],
             [
              0.8888888888888888,
              "#fdca26"
             ],
             [
              1,
              "#f0f921"
             ]
            ],
            "type": "heatmap"
           }
          ],
          "heatmapgl": [
           {
            "colorbar": {
             "outlinewidth": 0,
             "ticks": ""
            },
            "colorscale": [
             [
              0,
              "#0d0887"
             ],
             [
              0.1111111111111111,
              "#46039f"
             ],
             [
              0.2222222222222222,
              "#7201a8"
             ],
             [
              0.3333333333333333,
              "#9c179e"
             ],
             [
              0.4444444444444444,
              "#bd3786"
             ],
             [
              0.5555555555555556,
              "#d8576b"
             ],
             [
              0.6666666666666666,
              "#ed7953"
             ],
             [
              0.7777777777777778,
              "#fb9f3a"
             ],
             [
              0.8888888888888888,
              "#fdca26"
             ],
             [
              1,
              "#f0f921"
             ]
            ],
            "type": "heatmapgl"
           }
          ],
          "histogram": [
           {
            "marker": {
             "pattern": {
              "fillmode": "overlay",
              "size": 10,
              "solidity": 0.2
             }
            },
            "type": "histogram"
           }
          ],
          "histogram2d": [
           {
            "colorbar": {
             "outlinewidth": 0,
             "ticks": ""
            },
            "colorscale": [
             [
              0,
              "#0d0887"
             ],
             [
              0.1111111111111111,
              "#46039f"
             ],
             [
              0.2222222222222222,
              "#7201a8"
             ],
             [
              0.3333333333333333,
              "#9c179e"
             ],
             [
              0.4444444444444444,
              "#bd3786"
             ],
             [
              0.5555555555555556,
              "#d8576b"
             ],
             [
              0.6666666666666666,
              "#ed7953"
             ],
             [
              0.7777777777777778,
              "#fb9f3a"
             ],
             [
              0.8888888888888888,
              "#fdca26"
             ],
             [
              1,
              "#f0f921"
             ]
            ],
            "type": "histogram2d"
           }
          ],
          "histogram2dcontour": [
           {
            "colorbar": {
             "outlinewidth": 0,
             "ticks": ""
            },
            "colorscale": [
             [
              0,
              "#0d0887"
             ],
             [
              0.1111111111111111,
              "#46039f"
             ],
             [
              0.2222222222222222,
              "#7201a8"
             ],
             [
              0.3333333333333333,
              "#9c179e"
             ],
             [
              0.4444444444444444,
              "#bd3786"
             ],
             [
              0.5555555555555556,
              "#d8576b"
             ],
             [
              0.6666666666666666,
              "#ed7953"
             ],
             [
              0.7777777777777778,
              "#fb9f3a"
             ],
             [
              0.8888888888888888,
              "#fdca26"
             ],
             [
              1,
              "#f0f921"
             ]
            ],
            "type": "histogram2dcontour"
           }
          ],
          "mesh3d": [
           {
            "colorbar": {
             "outlinewidth": 0,
             "ticks": ""
            },
            "type": "mesh3d"
           }
          ],
          "parcoords": [
           {
            "line": {
             "colorbar": {
              "outlinewidth": 0,
              "ticks": ""
             }
            },
            "type": "parcoords"
           }
          ],
          "pie": [
           {
            "automargin": true,
            "type": "pie"
           }
          ],
          "scatter": [
           {
            "fillpattern": {
             "fillmode": "overlay",
             "size": 10,
             "solidity": 0.2
            },
            "type": "scatter"
           }
          ],
          "scatter3d": [
           {
            "line": {
             "colorbar": {
              "outlinewidth": 0,
              "ticks": ""
             }
            },
            "marker": {
             "colorbar": {
              "outlinewidth": 0,
              "ticks": ""
             }
            },
            "type": "scatter3d"
           }
          ],
          "scattercarpet": [
           {
            "marker": {
             "colorbar": {
              "outlinewidth": 0,
              "ticks": ""
             }
            },
            "type": "scattercarpet"
           }
          ],
          "scattergeo": [
           {
            "marker": {
             "colorbar": {
              "outlinewidth": 0,
              "ticks": ""
             }
            },
            "type": "scattergeo"
           }
          ],
          "scattergl": [
           {
            "marker": {
             "colorbar": {
              "outlinewidth": 0,
              "ticks": ""
             }
            },
            "type": "scattergl"
           }
          ],
          "scattermapbox": [
           {
            "marker": {
             "colorbar": {
              "outlinewidth": 0,
              "ticks": ""
             }
            },
            "type": "scattermapbox"
           }
          ],
          "scatterpolar": [
           {
            "marker": {
             "colorbar": {
              "outlinewidth": 0,
              "ticks": ""
             }
            },
            "type": "scatterpolar"
           }
          ],
          "scatterpolargl": [
           {
            "marker": {
             "colorbar": {
              "outlinewidth": 0,
              "ticks": ""
             }
            },
            "type": "scatterpolargl"
           }
          ],
          "scatterternary": [
           {
            "marker": {
             "colorbar": {
              "outlinewidth": 0,
              "ticks": ""
             }
            },
            "type": "scatterternary"
           }
          ],
          "surface": [
           {
            "colorbar": {
             "outlinewidth": 0,
             "ticks": ""
            },
            "colorscale": [
             [
              0,
              "#0d0887"
             ],
             [
              0.1111111111111111,
              "#46039f"
             ],
             [
              0.2222222222222222,
              "#7201a8"
             ],
             [
              0.3333333333333333,
              "#9c179e"
             ],
             [
              0.4444444444444444,
              "#bd3786"
             ],
             [
              0.5555555555555556,
              "#d8576b"
             ],
             [
              0.6666666666666666,
              "#ed7953"
             ],
             [
              0.7777777777777778,
              "#fb9f3a"
             ],
             [
              0.8888888888888888,
              "#fdca26"
             ],
             [
              1,
              "#f0f921"
             ]
            ],
            "type": "surface"
           }
          ],
          "table": [
           {
            "cells": {
             "fill": {
              "color": "#EBF0F8"
             },
             "line": {
              "color": "white"
             }
            },
            "header": {
             "fill": {
              "color": "#C8D4E3"
             },
             "line": {
              "color": "white"
             }
            },
            "type": "table"
           }
          ]
         },
         "layout": {
          "annotationdefaults": {
           "arrowcolor": "#2a3f5f",
           "arrowhead": 0,
           "arrowwidth": 1
          },
          "autotypenumbers": "strict",
          "coloraxis": {
           "colorbar": {
            "outlinewidth": 0,
            "ticks": ""
           }
          },
          "colorscale": {
           "diverging": [
            [
             0,
             "#8e0152"
            ],
            [
             0.1,
             "#c51b7d"
            ],
            [
             0.2,
             "#de77ae"
            ],
            [
             0.3,
             "#f1b6da"
            ],
            [
             0.4,
             "#fde0ef"
            ],
            [
             0.5,
             "#f7f7f7"
            ],
            [
             0.6,
             "#e6f5d0"
            ],
            [
             0.7,
             "#b8e186"
            ],
            [
             0.8,
             "#7fbc41"
            ],
            [
             0.9,
             "#4d9221"
            ],
            [
             1,
             "#276419"
            ]
           ],
           "sequential": [
            [
             0,
             "#0d0887"
            ],
            [
             0.1111111111111111,
             "#46039f"
            ],
            [
             0.2222222222222222,
             "#7201a8"
            ],
            [
             0.3333333333333333,
             "#9c179e"
            ],
            [
             0.4444444444444444,
             "#bd3786"
            ],
            [
             0.5555555555555556,
             "#d8576b"
            ],
            [
             0.6666666666666666,
             "#ed7953"
            ],
            [
             0.7777777777777778,
             "#fb9f3a"
            ],
            [
             0.8888888888888888,
             "#fdca26"
            ],
            [
             1,
             "#f0f921"
            ]
           ],
           "sequentialminus": [
            [
             0,
             "#0d0887"
            ],
            [
             0.1111111111111111,
             "#46039f"
            ],
            [
             0.2222222222222222,
             "#7201a8"
            ],
            [
             0.3333333333333333,
             "#9c179e"
            ],
            [
             0.4444444444444444,
             "#bd3786"
            ],
            [
             0.5555555555555556,
             "#d8576b"
            ],
            [
             0.6666666666666666,
             "#ed7953"
            ],
            [
             0.7777777777777778,
             "#fb9f3a"
            ],
            [
             0.8888888888888888,
             "#fdca26"
            ],
            [
             1,
             "#f0f921"
            ]
           ]
          },
          "colorway": [
           "#636efa",
           "#EF553B",
           "#00cc96",
           "#ab63fa",
           "#FFA15A",
           "#19d3f3",
           "#FF6692",
           "#B6E880",
           "#FF97FF",
           "#FECB52"
          ],
          "font": {
           "color": "#2a3f5f"
          },
          "geo": {
           "bgcolor": "white",
           "lakecolor": "white",
           "landcolor": "#E5ECF6",
           "showlakes": true,
           "showland": true,
           "subunitcolor": "white"
          },
          "hoverlabel": {
           "align": "left"
          },
          "hovermode": "closest",
          "mapbox": {
           "style": "light"
          },
          "paper_bgcolor": "white",
          "plot_bgcolor": "#E5ECF6",
          "polar": {
           "angularaxis": {
            "gridcolor": "white",
            "linecolor": "white",
            "ticks": ""
           },
           "bgcolor": "#E5ECF6",
           "radialaxis": {
            "gridcolor": "white",
            "linecolor": "white",
            "ticks": ""
           }
          },
          "scene": {
           "xaxis": {
            "backgroundcolor": "#E5ECF6",
            "gridcolor": "white",
            "gridwidth": 2,
            "linecolor": "white",
            "showbackground": true,
            "ticks": "",
            "zerolinecolor": "white"
           },
           "yaxis": {
            "backgroundcolor": "#E5ECF6",
            "gridcolor": "white",
            "gridwidth": 2,
            "linecolor": "white",
            "showbackground": true,
            "ticks": "",
            "zerolinecolor": "white"
           },
           "zaxis": {
            "backgroundcolor": "#E5ECF6",
            "gridcolor": "white",
            "gridwidth": 2,
            "linecolor": "white",
            "showbackground": true,
            "ticks": "",
            "zerolinecolor": "white"
           }
          },
          "shapedefaults": {
           "line": {
            "color": "#2a3f5f"
           }
          },
          "ternary": {
           "aaxis": {
            "gridcolor": "white",
            "linecolor": "white",
            "ticks": ""
           },
           "baxis": {
            "gridcolor": "white",
            "linecolor": "white",
            "ticks": ""
           },
           "bgcolor": "#E5ECF6",
           "caxis": {
            "gridcolor": "white",
            "linecolor": "white",
            "ticks": ""
           }
          },
          "title": {
           "x": 0.05
          },
          "xaxis": {
           "automargin": true,
           "gridcolor": "white",
           "linecolor": "white",
           "ticks": "",
           "title": {
            "standoff": 15
           },
           "zerolinecolor": "white",
           "zerolinewidth": 2
          },
          "yaxis": {
           "automargin": true,
           "gridcolor": "white",
           "linecolor": "white",
           "ticks": "",
           "title": {
            "standoff": 15
           },
           "zerolinecolor": "white",
           "zerolinewidth": 2
          }
         }
        },
        "title": {
         "text": "Timeline dos Projetos - Análise de Cronograma"
        },
        "xaxis": {
         "anchor": "y",
         "domain": [
          0,
          1
         ],
         "title": {
          "text": "Período"
         },
         "type": "date"
        },
        "yaxis": {
         "anchor": "x",
         "categoryorder": "total ascending",
         "domain": [
          0,
          1
         ],
         "title": {
          "text": "Projetos"
         }
        }
       }
      }
     },
     "metadata": {},
     "output_type": "display_data"
    },
    {
     "data": {
      "application/vnd.plotly.v1+json": {
       "config": {
        "plotlyServerURL": "https://plot.ly"
       },
       "data": [
        {
         "marker": {
          "color": "purple"
         },
         "name": "ROI Progresso",
         "text": [
          0.83,
          0.76,
          0.17,
          0.53
         ],
         "textposition": "outside",
         "type": "bar",
         "x": [
          "Digitalização de Lojas",
          "Sustentabilidade Logística",
          "Análise de Clientes",
          "Plataforma de Pagamentos"
         ],
         "xaxis": "x",
         "y": [
          0.8333333333333334,
          0.7647058823529411,
          0.16666666666666666,
          0.5333333333333333
         ],
         "yaxis": "y"
        },
        {
         "marker": {
          "color": "orange",
          "size": 15
         },
         "mode": "markers+text",
         "name": "Deadline Analysis",
         "text": [
          "Digitalização de Lojas",
          "Sustentabilidade Logística",
          "Análise de Clientes",
          "Plataforma de Pagamentos"
         ],
         "textposition": "top center",
         "type": "scatter",
         "x": [
          -27,
          49,
          80,
          19
         ],
         "xaxis": "x2",
         "y": [
          100,
          65,
          10,
          80
         ],
         "yaxis": "y2"
        }
       ],
       "layout": {
        "annotations": [
         {
          "font": {
           "size": 16
          },
          "showarrow": false,
          "text": "Eficiência: Progresso por €1000",
          "x": 0.225,
          "xanchor": "center",
          "xref": "paper",
          "y": 1,
          "yanchor": "bottom",
          "yref": "paper"
         },
         {
          "font": {
           "size": 16
          },
          "showarrow": false,
          "text": "Análise de Deadline",
          "x": 0.775,
          "xanchor": "center",
          "xref": "paper",
          "y": 1,
          "yanchor": "bottom",
          "yref": "paper"
         }
        ],
        "height": 500,
        "template": {
         "data": {
          "bar": [
           {
            "error_x": {
             "color": "#2a3f5f"
            },
            "error_y": {
             "color": "#2a3f5f"
            },
            "marker": {
             "line": {
              "color": "#E5ECF6",
              "width": 0.5
             },
             "pattern": {
              "fillmode": "overlay",
              "size": 10,
              "solidity": 0.2
             }
            },
            "type": "bar"
           }
          ],
          "barpolar": [
           {
            "marker": {
             "line": {
              "color": "#E5ECF6",
              "width": 0.5
             },
             "pattern": {
              "fillmode": "overlay",
              "size": 10,
              "solidity": 0.2
             }
            },
            "type": "barpolar"
           }
          ],
          "carpet": [
           {
            "aaxis": {
             "endlinecolor": "#2a3f5f",
             "gridcolor": "white",
             "linecolor": "white",
             "minorgridcolor": "white",
             "startlinecolor": "#2a3f5f"
            },
            "baxis": {
             "endlinecolor": "#2a3f5f",
             "gridcolor": "white",
             "linecolor": "white",
             "minorgridcolor": "white",
             "startlinecolor": "#2a3f5f"
            },
            "type": "carpet"
           }
          ],
          "choropleth": [
           {
            "colorbar": {
             "outlinewidth": 0,
             "ticks": ""
            },
            "type": "choropleth"
           }
          ],
          "contour": [
           {
            "colorbar": {
             "outlinewidth": 0,
             "ticks": ""
            },
            "colorscale": [
             [
              0,
              "#0d0887"
             ],
             [
              0.1111111111111111,
              "#46039f"
             ],
             [
              0.2222222222222222,
              "#7201a8"
             ],
             [
              0.3333333333333333,
              "#9c179e"
             ],
             [
              0.4444444444444444,
              "#bd3786"
             ],
             [
              0.5555555555555556,
              "#d8576b"
             ],
             [
              0.6666666666666666,
              "#ed7953"
             ],
             [
              0.7777777777777778,
              "#fb9f3a"
             ],
             [
              0.8888888888888888,
              "#fdca26"
             ],
             [
              1,
              "#f0f921"
             ]
            ],
            "type": "contour"
           }
          ],
          "contourcarpet": [
           {
            "colorbar": {
             "outlinewidth": 0,
             "ticks": ""
            },
            "type": "contourcarpet"
           }
          ],
          "heatmap": [
           {
            "colorbar": {
             "outlinewidth": 0,
             "ticks": ""
            },
            "colorscale": [
             [
              0,
              "#0d0887"
             ],
             [
              0.1111111111111111,
              "#46039f"
             ],
             [
              0.2222222222222222,
              "#7201a8"
             ],
             [
              0.3333333333333333,
              "#9c179e"
             ],
             [
              0.4444444444444444,
              "#bd3786"
             ],
             [
              0.5555555555555556,
              "#d8576b"
             ],
             [
              0.6666666666666666,
              "#ed7953"
             ],
             [
              0.7777777777777778,
              "#fb9f3a"
             ],
             [
              0.8888888888888888,
              "#fdca26"
             ],
             [
              1,
              "#f0f921"
             ]
            ],
            "type": "heatmap"
           }
          ],
          "heatmapgl": [
           {
            "colorbar": {
             "outlinewidth": 0,
             "ticks": ""
            },
            "colorscale": [
             [
              0,
              "#0d0887"
             ],
             [
              0.1111111111111111,
              "#46039f"
             ],
             [
              0.2222222222222222,
              "#7201a8"
             ],
             [
              0.3333333333333333,
              "#9c179e"
             ],
             [
              0.4444444444444444,
              "#bd3786"
             ],
             [
              0.5555555555555556,
              "#d8576b"
             ],
             [
              0.6666666666666666,
              "#ed7953"
             ],
             [
              0.7777777777777778,
              "#fb9f3a"
             ],
             [
              0.8888888888888888,
              "#fdca26"
             ],
             [
              1,
              "#f0f921"
             ]
            ],
            "type": "heatmapgl"
           }
          ],
          "histogram": [
           {
            "marker": {
             "pattern": {
              "fillmode": "overlay",
              "size": 10,
              "solidity": 0.2
             }
            },
            "type": "histogram"
           }
          ],
          "histogram2d": [
           {
            "colorbar": {
             "outlinewidth": 0,
             "ticks": ""
            },
            "colorscale": [
             [
              0,
              "#0d0887"
             ],
             [
              0.1111111111111111,
              "#46039f"
             ],
             [
              0.2222222222222222,
              "#7201a8"
             ],
             [
              0.3333333333333333,
              "#9c179e"
             ],
             [
              0.4444444444444444,
              "#bd3786"
             ],
             [
              0.5555555555555556,
              "#d8576b"
             ],
             [
              0.6666666666666666,
              "#ed7953"
             ],
             [
              0.7777777777777778,
              "#fb9f3a"
             ],
             [
              0.8888888888888888,
              "#fdca26"
             ],
             [
              1,
              "#f0f921"
             ]
            ],
            "type": "histogram2d"
           }
          ],
          "histogram2dcontour": [
           {
            "colorbar": {
             "outlinewidth": 0,
             "ticks": ""
            },
            "colorscale": [
             [
              0,
              "#0d0887"
             ],
             [
              0.1111111111111111,
              "#46039f"
             ],
             [
              0.2222222222222222,
              "#7201a8"
             ],
             [
              0.3333333333333333,
              "#9c179e"
             ],
             [
              0.4444444444444444,
              "#bd3786"
             ],
             [
              0.5555555555555556,
              "#d8576b"
             ],
             [
              0.6666666666666666,
              "#ed7953"
             ],
             [
              0.7777777777777778,
              "#fb9f3a"
             ],
             [
              0.8888888888888888,
              "#fdca26"
             ],
             [
              1,
              "#f0f921"
             ]
            ],
            "type": "histogram2dcontour"
           }
          ],
          "mesh3d": [
           {
            "colorbar": {
             "outlinewidth": 0,
             "ticks": ""
            },
            "type": "mesh3d"
           }
          ],
          "parcoords": [
           {
            "line": {
             "colorbar": {
              "outlinewidth": 0,
              "ticks": ""
             }
            },
            "type": "parcoords"
           }
          ],
          "pie": [
           {
            "automargin": true,
            "type": "pie"
           }
          ],
          "scatter": [
           {
            "fillpattern": {
             "fillmode": "overlay",
             "size": 10,
             "solidity": 0.2
            },
            "type": "scatter"
           }
          ],
          "scatter3d": [
           {
            "line": {
             "colorbar": {
              "outlinewidth": 0,
              "ticks": ""
             }
            },
            "marker": {
             "colorbar": {
              "outlinewidth": 0,
              "ticks": ""
             }
            },
            "type": "scatter3d"
           }
          ],
          "scattercarpet": [
           {
            "marker": {
             "colorbar": {
              "outlinewidth": 0,
              "ticks": ""
             }
            },
            "type": "scattercarpet"
           }
          ],
          "scattergeo": [
           {
            "marker": {
             "colorbar": {
              "outlinewidth": 0,
              "ticks": ""
             }
            },
            "type": "scattergeo"
           }
          ],
          "scattergl": [
           {
            "marker": {
             "colorbar": {
              "outlinewidth": 0,
              "ticks": ""
             }
            },
            "type": "scattergl"
           }
          ],
          "scattermapbox": [
           {
            "marker": {
             "colorbar": {
              "outlinewidth": 0,
              "ticks": ""
             }
            },
            "type": "scattermapbox"
           }
          ],
          "scatterpolar": [
           {
            "marker": {
             "colorbar": {
              "outlinewidth": 0,
              "ticks": ""
             }
            },
            "type": "scatterpolar"
           }
          ],
          "scatterpolargl": [
           {
            "marker": {
             "colorbar": {
              "outlinewidth": 0,
              "ticks": ""
             }
            },
            "type": "scatterpolargl"
           }
          ],
          "scatterternary": [
           {
            "marker": {
             "colorbar": {
              "outlinewidth": 0,
              "ticks": ""
             }
            },
            "type": "scatterternary"
           }
          ],
          "surface": [
           {
            "colorbar": {
             "outlinewidth": 0,
             "ticks": ""
            },
            "colorscale": [
             [
              0,
              "#0d0887"
             ],
             [
              0.1111111111111111,
              "#46039f"
             ],
             [
              0.2222222222222222,
              "#7201a8"
             ],
             [
              0.3333333333333333,
              "#9c179e"
             ],
             [
              0.4444444444444444,
              "#bd3786"
             ],
             [
              0.5555555555555556,
              "#d8576b"
             ],
             [
              0.6666666666666666,
              "#ed7953"
             ],
             [
              0.7777777777777778,
              "#fb9f3a"
             ],
             [
              0.8888888888888888,
              "#fdca26"
             ],
             [
              1,
              "#f0f921"
             ]
            ],
            "type": "surface"
           }
          ],
          "table": [
           {
            "cells": {
             "fill": {
              "color": "#EBF0F8"
             },
             "line": {
              "color": "white"
             }
            },
            "header": {
             "fill": {
              "color": "#C8D4E3"
             },
             "line": {
              "color": "white"
             }
            },
            "type": "table"
           }
          ]
         },
         "layout": {
          "annotationdefaults": {
           "arrowcolor": "#2a3f5f",
           "arrowhead": 0,
           "arrowwidth": 1
          },
          "autotypenumbers": "strict",
          "coloraxis": {
           "colorbar": {
            "outlinewidth": 0,
            "ticks": ""
           }
          },
          "colorscale": {
           "diverging": [
            [
             0,
             "#8e0152"
            ],
            [
             0.1,
             "#c51b7d"
            ],
            [
             0.2,
             "#de77ae"
            ],
            [
             0.3,
             "#f1b6da"
            ],
            [
             0.4,
             "#fde0ef"
            ],
            [
             0.5,
             "#f7f7f7"
            ],
            [
             0.6,
             "#e6f5d0"
            ],
            [
             0.7,
             "#b8e186"
            ],
            [
             0.8,
             "#7fbc41"
            ],
            [
             0.9,
             "#4d9221"
            ],
            [
             1,
             "#276419"
            ]
           ],
           "sequential": [
            [
             0,
             "#0d0887"
            ],
            [
             0.1111111111111111,
             "#46039f"
            ],
            [
             0.2222222222222222,
             "#7201a8"
            ],
            [
             0.3333333333333333,
             "#9c179e"
            ],
            [
             0.4444444444444444,
             "#bd3786"
            ],
            [
             0.5555555555555556,
             "#d8576b"
            ],
            [
             0.6666666666666666,
             "#ed7953"
            ],
            [
             0.7777777777777778,
             "#fb9f3a"
            ],
            [
             0.8888888888888888,
             "#fdca26"
            ],
            [
             1,
             "#f0f921"
            ]
           ],
           "sequentialminus": [
            [
             0,
             "#0d0887"
            ],
            [
             0.1111111111111111,
             "#46039f"
            ],
            [
             0.2222222222222222,
             "#7201a8"
            ],
            [
             0.3333333333333333,
             "#9c179e"
            ],
            [
             0.4444444444444444,
             "#bd3786"
            ],
            [
             0.5555555555555556,
             "#d8576b"
            ],
            [
             0.6666666666666666,
             "#ed7953"
            ],
            [
             0.7777777777777778,
             "#fb9f3a"
            ],
            [
             0.8888888888888888,
             "#fdca26"
            ],
            [
             1,
             "#f0f921"
            ]
           ]
          },
          "colorway": [
           "#636efa",
           "#EF553B",
           "#00cc96",
           "#ab63fa",
           "#FFA15A",
           "#19d3f3",
           "#FF6692",
           "#B6E880",
           "#FF97FF",
           "#FECB52"
          ],
          "font": {
           "color": "#2a3f5f"
          },
          "geo": {
           "bgcolor": "white",
           "lakecolor": "white",
           "landcolor": "#E5ECF6",
           "showlakes": true,
           "showland": true,
           "subunitcolor": "white"
          },
          "hoverlabel": {
           "align": "left"
          },
          "hovermode": "closest",
          "mapbox": {
           "style": "light"
          },
          "paper_bgcolor": "white",
          "plot_bgcolor": "#E5ECF6",
          "polar": {
           "angularaxis": {
            "gridcolor": "white",
            "linecolor": "white",
            "ticks": ""
           },
           "bgcolor": "#E5ECF6",
           "radialaxis": {
            "gridcolor": "white",
            "linecolor": "white",
            "ticks": ""
           }
          },
          "scene": {
           "xaxis": {
            "backgroundcolor": "#E5ECF6",
            "gridcolor": "white",
            "gridwidth": 2,
            "linecolor": "white",
            "showbackground": true,
            "ticks": "",
            "zerolinecolor": "white"
           },
           "yaxis": {
            "backgroundcolor": "#E5ECF6",
            "gridcolor": "white",
            "gridwidth": 2,
            "linecolor": "white",
            "showbackground": true,
            "ticks": "",
            "zerolinecolor": "white"
           },
           "zaxis": {
            "backgroundcolor": "#E5ECF6",
            "gridcolor": "white",
            "gridwidth": 2,
            "linecolor": "white",
            "showbackground": true,
            "ticks": "",
            "zerolinecolor": "white"
           }
          },
          "shapedefaults": {
           "line": {
            "color": "#2a3f5f"
           }
          },
          "ternary": {
           "aaxis": {
            "gridcolor": "white",
            "linecolor": "white",
            "ticks": ""
           },
           "baxis": {
            "gridcolor": "white",
            "linecolor": "white",
            "ticks": ""
           },
           "bgcolor": "#E5ECF6",
           "caxis": {
            "gridcolor": "white",
            "linecolor": "white",
            "ticks": ""
           }
          },
          "title": {
           "x": 0.05
          },
          "xaxis": {
           "automargin": true,
           "gridcolor": "white",
           "linecolor": "white",
           "ticks": "",
           "title": {
            "standoff": 15
           },
           "zerolinecolor": "white",
           "zerolinewidth": 2
          },
          "yaxis": {
           "automargin": true,
           "gridcolor": "white",
           "linecolor": "white",
           "ticks": "",
           "title": {
            "standoff": 15
           },
           "zerolinecolor": "white",
           "zerolinewidth": 2
          }
         }
        },
        "title": {
         "text": "Análise de Performance e Cronograma"
        },
        "xaxis": {
         "anchor": "y",
         "domain": [
          0,
          0.45
         ],
         "title": {
          "text": "Projeto"
         }
        },
        "xaxis2": {
         "anchor": "y2",
         "domain": [
          0.55,
          1
         ],
         "title": {
          "text": "Dias até Deadline"
         }
        },
        "yaxis": {
         "anchor": "x",
         "domain": [
          0,
          1
         ],
         "title": {
          "text": "Progresso por €1000"
         }
        },
        "yaxis2": {
         "anchor": "x2",
         "domain": [
          0,
          1
         ],
         "title": {
          "text": "Progresso (%)"
         }
        }
       }
      }
     },
     "metadata": {},
     "output_type": "display_data"
    },
    {
     "name": "stdout",
     "output_type": "stream",
     "text": [
      "=== ANÁLISE DE PERFORMANCE ===\n",
      "Eficiência (Progresso por €1000 investidos):\n",
      "• Digitalização de Lojas: 0.83 pontos/€1000\n",
      "• Sustentabilidade Logística: 0.76 pontos/€1000\n",
      "• Análise de Clientes: 0.17 pontos/€1000\n",
      "• Plataforma de Pagamentos: 0.53 pontos/€1000\n",
      "\n",
      "=== ANÁLISE DE DEADLINES ===\n",
      "• Digitalização de Lojas: -27 dias restantes (ATRASADO)\n",
      "• Sustentabilidade Logística: 49 dias restantes (EM DIA)\n",
      "• Análise de Clientes: 80 dias restantes (EM DIA)\n",
      "• Plataforma de Pagamentos: 19 dias restantes (ATENÇÃO)\n"
     ]
    }
   ],
   "source": [
    "# Análise temporal - Gráfico de Gantt\n",
    "fig = px.timeline(df, \n",
    "                  x_start=\"Data_Inicio\", \n",
    "                  x_end=\"Data_Fim\", \n",
    "                  y=\"Projeto\",\n",
    "                  color=\"Status\",\n",
    "                  hover_data=['Investimento (€)', 'Progresso (%)', 'Responsavel'],\n",
    "                  title=\"Timeline dos Projetos - Análise de Cronograma\")\n",
    "\n",
    "fig.update_yaxes(categoryorder=\"total ascending\")\n",
    "fig.update_layout(height=400, xaxis_title=\"Período\", yaxis_title=\"Projetos\")\n",
    "fig.show()\n",
    "\n",
    "# Análise de eficiência: ROI por progresso\n",
    "df['ROI_Progresso'] = df['Progresso (%)'] / (df['Investimento (€)'] / 1000)  # Progresso por mil euros\n",
    "\n",
    "# Gráfico de performance\n",
    "fig = make_subplots(\n",
    "    rows=1, cols=2,\n",
    "    subplot_titles=['Eficiência: Progresso por €1000', 'Análise de Deadline'],\n",
    "    specs=[[{\"type\": \"bar\"}, {\"type\": \"scatter\"}]]\n",
    ")\n",
    "\n",
    "# Eficiência de investimento\n",
    "fig.add_trace(\n",
    "    go.Bar(x=df['Projeto'], \n",
    "           y=df['ROI_Progresso'],\n",
    "           text=df['ROI_Progresso'].round(2),\n",
    "           textposition='outside',\n",
    "           marker_color='purple',\n",
    "           name='ROI Progresso'),\n",
    "    row=1, col=1\n",
    ")\n",
    "\n",
    "# Análise de deadline (tempo restante vs progresso)\n",
    "df['Dias_Restantes'] = (df['Data_Fim'] - pd.Timestamp.now()).dt.days\n",
    "fig.add_trace(\n",
    "    go.Scatter(x=df['Dias_Restantes'], \n",
    "               y=df['Progresso (%)'],\n",
    "               text=df['Projeto'],\n",
    "               mode='markers+text',\n",
    "               textposition='top center',\n",
    "               marker=dict(size=15, color='orange'),\n",
    "               name='Deadline Analysis'),\n",
    "    row=1, col=2\n",
    ")\n",
    "\n",
    "fig.update_layout(height=500, title_text=\"Análise de Performance e Cronograma\")\n",
    "fig.update_xaxes(title_text=\"Projeto\", row=1, col=1)\n",
    "fig.update_yaxes(title_text=\"Progresso por €1000\", row=1, col=1)\n",
    "fig.update_xaxes(title_text=\"Dias até Deadline\", row=1, col=2)\n",
    "fig.update_yaxes(title_text=\"Progresso (%)\", row=1, col=2)\n",
    "fig.show()\n",
    "\n",
    "print(\"=== ANÁLISE DE PERFORMANCE ===\")\n",
    "print(\"Eficiência (Progresso por €1000 investidos):\")\n",
    "for _, row in df.iterrows():\n",
    "    print(f\"• {row['Projeto']}: {row['ROI_Progresso']:.2f} pontos/€1000\")\n",
    "\n",
    "print(f\"\\n=== ANÁLISE DE DEADLINES ===\")\n",
    "for _, row in df.iterrows():\n",
    "    dias_rest = row['Dias_Restantes']\n",
    "    status_deadline = \"ATRASADO\" if dias_rest < 0 else \"EM DIA\" if dias_rest > 30 else \"ATENÇÃO\"\n",
    "    print(f\"• {row['Projeto']}: {dias_rest} dias restantes ({status_deadline})\")"
   ]
  },
  {
   "cell_type": "markdown",
   "id": "9eb27160",
   "metadata": {},
   "source": [
    "## 5. Conclusões e Recomendações Estratégicas\n",
    "\n",
    "### 5.1 Principais Achados\n",
    "\n",
    "**1. Paradoxo do Investimento-Progresso**\n",
    "Contrariando expectativas iniciais, a análise revelou uma correlação positiva moderada (0.803) entre investimento e progresso, sugerindo que projetos com maior aporte financeiro tendem a apresentar maior avanço. Isso indica uma possível relação entre recursos disponíveis e capacidade de execução.\n",
    "\n",
    "**2. Heterogeneidade Departamental**\n",
    "Observa-se significativa disparidade na eficiência entre departamentos:\n",
    "- **Operações**: Líder em eficiência (0.83 pontos/€1000) com projeto concluído\n",
    "- **Logística**: Segunda melhor performance (0.76 pontos/€1000) \n",
    "- **Marketing**: Menor eficiência (0.17 pontos/€1000), projeto ainda em fase inicial\n",
    "\n",
    "**3. Concentração de Riscos Temporais**\n",
    "Todos os projetos apresentam cronogramas já expirados na data de análise, indicando possíveis problemas de:\n",
    "- Planejamento temporal inadequado\n",
    "- Subestimação de complexidade\n",
    "- Necessidade de revisão de metodologias de gestão\n",
    "\n",
    "### 5.2 Recomendações Acadêmicas\n",
    "\n",
    "**Gestão de Portfolio:**\n",
    "1. Implementar análise de valor esperado (EVA) para projetos futuros\n",
    "2. Estabelecer métricas de eficiência padronizadas entre departamentos\n",
    "3. Desenvolver framework de avaliação de risco temporal\n",
    "\n",
    "**Otimização de Recursos:**\n",
    "1. Redistribuir conhecimento do departamento de Operações para outros setores\n",
    "2. Investigar fatores de sucesso do projeto \"Digitalização de Lojas\"\n",
    "3. Revisar orçamento do projeto \"Análise de Clientes\" considerando baixa eficiência\n",
    "\n",
    "**Metodologia de Projeto:**\n",
    "1. Adotar abordagem ágil para projetos de menor complexidade\n",
    "2. Implementar gates de revisão baseados em marcos de progresso\n",
    "3. Estabelecer benchmarks internos de performance departamental\n",
    "\n",
    "### 5.3 Direcionamentos para Estudos Futuros\n",
    "\n",
    "1. **Análise Longitudinal**: Acompanhamento dos projetos ao longo de múltiplos períodos\n",
    "2. **Fatores Qualitativos**: Incorporação de variáveis como complexidade técnica e resistência organizacional\n",
    "3. **Benchmarking Externo**: Comparação com indicadores setoriais do varejo\n",
    "4. **Análise Preditiva**: Desenvolvimento de modelos de machine learning para previsão de sucesso de projetos\n",
    "\n",
    "---"
   ]
  },
  {
   "cell_type": "code",
   "execution_count": 17,
   "id": "c104c9dc",
   "metadata": {},
   "outputs": [
    {
     "name": "stdout",
     "output_type": "stream",
     "text": [
      "================================================================================\n",
      "                    RELATÓRIO ESTATÍSTICO FINAL\n",
      "================================================================================\n",
      "\n",
      "📊 ESTATÍSTICAS DESCRITIVAS CONSOLIDADAS\n",
      "--------------------------------------------------\n",
      "       Investimento (€)  Progresso (%)  Duracao_meses\n",
      "count          4.000000       4.000000       4.000000\n",
      "mean      103750.000000      63.750000       5.775000\n",
      "std        39449.334595      38.595121       4.547802\n",
      "min        60000.000000      10.000000      -1.000000\n",
      "25%        78750.000000      51.250000       5.300000\n",
      "50%       102500.000000      72.500000       7.700000\n",
      "75%       127500.000000      85.000000       8.175000\n",
      "max       150000.000000     100.000000       8.700000\n",
      "\n",
      "📈 ANÁLISE DE CORRELAÇÃO COMPLETA\n",
      "--------------------------------------------------\n",
      "                  Investimento (€)  Progresso (%)  Duracao_meses\n",
      "Investimento (€)          1.000000       0.803202      -0.815879\n",
      "Progresso (%)             0.803202       1.000000      -0.317385\n",
      "Duracao_meses            -0.815879      -0.317385       1.000000\n",
      "\n",
      "🏆 RANKING DE PERFORMANCE\n",
      "--------------------------------------------------\n",
      "                   Projeto Departamento  Investimento (€)  Progresso (%)  ROI_Progresso\n",
      "    Digitalização de Lojas    Operações            120000            100       0.833333\n",
      "Sustentabilidade Logística    Logística             85000             65       0.764706\n",
      "  Plataforma de Pagamentos   Financeiro            150000             80       0.533333\n",
      "       Análise de Clientes    Marketing             60000             10       0.166667\n",
      "\n",
      "📋 RESUMO EXECUTIVO QUANTITATIVO\n",
      "--------------------------------------------------\n",
      "• Investimento Total: €415,000\n",
      "• Valor Médio por Projeto: €103,750\n",
      "• Desvio Padrão Investimento: €39,449\n",
      "• Progresso Médio: 63.8%\n",
      "• Variabilidade Progresso (CV): 60.5%\n",
      "• Duração Média: 5.8 meses\n",
      "• ROI Médio: 0.57 pontos/€1000\n",
      "\n",
      "🎯 INDICADORES DE GESTÃO\n",
      "--------------------------------------------------\n",
      "• Taxa de Conclusão: 25%\n",
      "• Projetos em Risco (Progresso < 50%): 1\n",
      "• Concentração de Investimento (HHI): 0.277\n",
      "• Dispersão Departamental: 4 departamentos\n",
      "\n",
      "💡 INSIGHTS ESTATÍSTICOS\n",
      "--------------------------------------------------\n",
      "• Projeto de Maior ROI: Digitalização de Lojas\n",
      "• Maior Investimento: Plataforma de Pagamentos\n",
      "• Menor Variabilidade: Investimentos (CV: 38.0%)\n",
      "• Maior Variabilidade: Progresso (CV: 60.5%)\n",
      "================================================================================\n"
     ]
    }
   ],
   "source": [
    "# Relatório estatístico final\n",
    "print(\"=\"*80)\n",
    "print(\"                    RELATÓRIO ESTATÍSTICO FINAL\")\n",
    "print(\"=\"*80)\n",
    "\n",
    "print(\"\\n📊 ESTATÍSTICAS DESCRITIVAS CONSOLIDADAS\")\n",
    "print(\"-\" * 50)\n",
    "print(df[['Investimento (€)', 'Progresso (%)', 'Duracao_meses']].describe())\n",
    "\n",
    "print(\"\\n📈 ANÁLISE DE CORRELAÇÃO COMPLETA\")\n",
    "print(\"-\" * 50)\n",
    "correlation_matrix = df[['Investimento (€)', 'Progresso (%)', 'Duracao_meses']].corr()\n",
    "print(correlation_matrix)\n",
    "\n",
    "print(\"\\n🏆 RANKING DE PERFORMANCE\")\n",
    "print(\"-\" * 50)\n",
    "df_ranking = df[['Projeto', 'Departamento', 'Investimento (€)', 'Progresso (%)', 'ROI_Progresso']].copy()\n",
    "df_ranking = df_ranking.sort_values('ROI_Progresso', ascending=False)\n",
    "print(df_ranking.to_string(index=False))\n",
    "\n",
    "print(\"\\n📋 RESUMO EXECUTIVO QUANTITATIVO\")\n",
    "print(\"-\" * 50)\n",
    "print(f\"• Investimento Total: €{df['Investimento (€)'].sum():,}\")\n",
    "print(f\"• Valor Médio por Projeto: €{df['Investimento (€)'].mean():,.0f}\")\n",
    "print(f\"• Desvio Padrão Investimento: €{df['Investimento (€)'].std():,.0f}\")\n",
    "print(f\"• Progresso Médio: {df['Progresso (%)'].mean():.1f}%\")\n",
    "print(f\"• Variabilidade Progresso (CV): {(df['Progresso (%)'].std()/df['Progresso (%)'].mean()*100):.1f}%\")\n",
    "print(f\"• Duração Média: {df['Duracao_meses'].mean():.1f} meses\")\n",
    "print(f\"• ROI Médio: {df['ROI_Progresso'].mean():.2f} pontos/€1000\")\n",
    "\n",
    "print(\"\\n🎯 INDICADORES DE GESTÃO\")\n",
    "print(\"-\" * 50)\n",
    "print(f\"• Taxa de Conclusão: {len(df[df['Status']=='Concluído'])/len(df)*100:.0f}%\")\n",
    "print(f\"• Projetos em Risco (Progresso < 50%): {len(df[df['Progresso (%)'] < 50])}\")\n",
    "print(f\"• Concentração de Investimento (HHI): {((df['Investimento (€)']/df['Investimento (€)'].sum())**2).sum():.3f}\")\n",
    "print(f\"• Dispersão Departamental: {df['Departamento'].nunique()} departamentos\")\n",
    "\n",
    "print(\"\\n💡 INSIGHTS ESTATÍSTICOS\")\n",
    "print(\"-\" * 50)\n",
    "print(f\"• Projeto de Maior ROI: {df.loc[df['ROI_Progresso'].idxmax(), 'Projeto']}\")\n",
    "print(f\"• Maior Investimento: {df.loc[df['Investimento (€)'].idxmax(), 'Projeto']}\")\n",
    "print(f\"• Menor Variabilidade: Investimentos (CV: {df['Investimento (€)'].std()/df['Investimento (€)'].mean()*100:.1f}%)\")\n",
    "print(f\"• Maior Variabilidade: Progresso (CV: {df['Progresso (%)'].std()/df['Progresso (%)'].mean()*100:.1f}%)\")\n",
    "\n",
    "print(\"=\"*80)"
   ]
  },
  {
   "cell_type": "markdown",
   "id": "5024784f",
   "metadata": {},
   "source": [
    "# Documentação do Projeto: Sistema de Análise e Visualização de Relatórios\n",
    "\n",
    "## Visão Geral do Sistema\n",
    "\n",
    "Este projeto implementa um **pipeline completo de ETL (Extract, Transform, Load)** para análise de dados corporativos, integrando extração multi-formato, processamento analítico e visualização interativa em dashboard web.\n",
    "\n",
    "## Arquitetura do Sistema\n",
    "\n",
    "```\n",
    "┌─────────────────────┐    ┌─────────────────────┐    ┌─────────────────────┐    ┌─────────────────────┐\n",
    "│                     │    │                     │    │                     │    │                     │\n",
    "│   DADOS BRUTOS      │───▶│    EXTRAÇÃO        │───▶│   PROCESSAMENTO     │───▶│    DASHBOARD       │\n",
    "│   (Raw Data)        │    │   (Extract)        │    │   (Transform)       │    │     (Load)         │\n",
    "│                     │    │                     │    │                     │    │                     │\n",
    "└─────────────────────┘    └─────────────────────┘    └─────────────────────┘    └─────────────────────┘\n",
    "         │                           │                           │                           │\n",
    "         │                           │                           │                           │\n",
    "    ┌────▼────┐                 ┌────▼────┐                 ┌────▼────┐                 ┌────▼────┐\n",
    "    │ • PDF   │                 │ Extrator│                 │ Jupyter │                 │Streamlit│\n",
    "    │ • DOCX  │                 │Principal│                 │Notebook │                 │Dashboard│\n",
    "    │ • CSV   │                 │         │                 │ (EDA)   │                 │         │\n",
    "    │ • XLSX  │                 │ Módulos │                 │         │                 │         │\n",
    "    └─────────┘                 │ Esp.    │                 │ Análise │                 │ Visual. │\n",
    "                                └─────────┘                 │ Est.    │                 │ Inter.  │\n",
    "                                                           └─────────┘                 └─────────┘\n",
    "```\n",
    "\n",
    "## Fluxograma Detalhado do Pipeline\n",
    "\n",
    "### 1. Camada de Dados (Data Layer)\n",
    "\n",
    "**Localização**: `data/raw/`\n",
    "\n",
    "**Formatos Suportados**:\n",
    "- **PDF**: Relatórios executivos, documentos corporativos\n",
    "- **DOCX**: Atas de reunião, relatórios departamentais  \n",
    "- **CSV**: Dados tabulares estruturados\n",
    "- **XLSX**: Planilhas com múltiplas abas\n",
    "\n",
    "**Estrutura de Pastas**:\n",
    "```\n",
    "data/\n",
    "├── raw/                    # Dados originais não processados\n",
    "│   ├── Relatorio_projetos.csv\n",
    "│   ├── Exemplo_doc.docx\n",
    "│   └── RELATÓRIO DE PROJETOS 2024.pdf\n",
    "└── processed/             # Dados extraídos e estruturados\n",
    "    ├── Relatorio_projetos_dados.json\n",
    "    ├── Exemplo_doc_dados.json\n",
    "    └── RELATÓRIO DE PROJETOS 2024_dados.json\n",
    "```\n",
    "\n",
    "### 2. Camada de Extração (Extract Layer)\n",
    "\n",
    "**Localização**: `scripts/`\n",
    "\n",
    "**Componentes Principais**:\n",
    "\n",
    "#### 2.1 Extrator Principal (`extrator_principal.py`)\n",
    "- **Função**: Orquestrador central do sistema\n",
    "- **Responsabilidades**:\n",
    "  - Descoberta automática de arquivos\n",
    "  - Roteamento para extratores específicos\n",
    "  - Controle de fluxo e tratamento de erros\n",
    "  - Geração de relatórios de processamento\n",
    "\n",
    "#### 2.2 Extratores Especializados\n",
    "\n",
    "**`extrator_pdf.py`**\n",
    "- **Bibliotecas**: PyPDF2 + pdfplumber\n",
    "- **Capacidades**: Texto, tabelas, metadados\n",
    "- **Fallback**: Múltiplas estratégias de extração\n",
    "\n",
    "**`extrator_doc.py`**\n",
    "- **Bibliotecas**: python-docx + zipfile\n",
    "- **Capacidades**: Parágrafos, tabelas, propriedades do documento\n",
    "- **Suporte**: DOCX (DOC requer conversão)\n",
    "\n",
    "**`extrator_csv_xlsx.py`**\n",
    "- **Bibliotecas**: pandas + openpyxl\n",
    "- **Capacidades**: Detecção de encoding, análise estatística automática\n",
    "- **Features**: Múltiplas planilhas, limpeza de dados\n",
    "\n",
    "#### 2.3 Sistema de Configuração (`config.py`)\n",
    "- **Parâmetros**: Caminhos, formatos, validações\n",
    "- **Qualidade**: Thresholds e métricas\n",
    "- **Visualização**: Cores, templates, configurações\n",
    "\n",
    "### 3. Camada de Transformação (Transform Layer)\n",
    "\n",
    "**Localização**: `notebooks/analise.ipynb`\n",
    "\n",
    "**Processo de Análise**:\n",
    "\n",
    "#### 3.1 Preparação de Dados\n",
    "```python\n",
    "# Conversão de tipos\n",
    "df['Data_Inicio'] = pd.to_datetime(df['Data_Inicio'])\n",
    "df['Data_Fim'] = pd.to_datetime(df['Data_Fim'])\n",
    "\n",
    "# Criação de variáveis derivadas\n",
    "df['Duracao_meses'] = ((df['Data_Fim'] - df['Data_Inicio']).dt.days / 30.44).round(1)\n",
    "df['ROI_Progresso'] = df['Progresso (%)'] / (df['Investimento (€)'] / 1000)\n",
    "```\n",
    "\n",
    "#### 3.2 Análise Exploratória\n",
    "- **Univariada**: Distribuições, frequências, estatísticas descritivas\n",
    "- **Bivariada**: Correlações, relacionamentos, tendências\n",
    "- **Temporal**: Cronogramas, deadlines, sobreposições\n",
    "- **Departamental**: Comparações, rankings, eficiência\n",
    "\n",
    "#### 3.3 Geração de Insights\n",
    "- **Estatísticos**: Correlações, medidas de dispersão\n",
    "- **Visuais**: Gráficos interativos com Plotly\n",
    "- **Narrativos**: Storytelling baseado em dados\n",
    "\n",
    "### 4. Camada de Apresentação (Load Layer)\n",
    "\n",
    "**Tecnologia**: Streamlit Dashboard\n",
    "\n",
    "**Arquitetura do Dashboard**:\n",
    "\n",
    "#### 4.1 Estrutura Proposta\n",
    "```python\n",
    "# dashboard_streamlit.py\n",
    "\n",
    "import streamlit as st\n",
    "import pandas as pd\n",
    "import plotly.express as px\n",
    "import json\n",
    "from pathlib import Path\n",
    "\n",
    "# Configuração da página\n",
    "st.set_page_config(\n",
    "    page_title=\"MC Sonae - Dashboard de Projetos\",\n",
    "    page_icon=\"📊\",\n",
    "    layout=\"wide\"\n",
    ")\n",
    "\n",
    "# Sidebar - Filtros e controles\n",
    "# Main area - Visualizações e métricas\n",
    "# Footer - Informações técnicas\n",
    "```\n",
    "\n",
    "#### 4.2 Funcionalidades do Dashboard\n",
    "\n",
    "**Página Inicial - Overview**:\n",
    "- KPIs principais (investimento total, progresso médio)\n",
    "- Gráficos de status e distribuição\n",
    "- Timeline interativa dos projetos\n",
    "\n",
    "**Página de Análise - Deep Dive**:\n",
    "- Correlações entre variáveis\n",
    "- Análise departamental comparativa\n",
    "- Filtros dinâmicos por período/status/departamento\n",
    "\n",
    "**Página de Performance - Monitoring**:\n",
    "- ROI por projeto\n",
    "- Análise de deadlines\n",
    "- Alertas de projetos em risco\n",
    "\n",
    "## Fluxo de Dados End-to-End\n",
    "\n",
    "### Processo de Execução\n",
    "\n",
    "#### Etapa 1: Extração\n",
    "```bash\n",
    "cd scripts/\n",
    "python extrator_principal.py --todos --formato json\n",
    "```\n",
    "\n",
    "**Saídas**:\n",
    "- Arquivos JSON estruturados em `data/processed/`\n",
    "- Log de processamento com status e métricas\n",
    "- Relatório de qualidade dos dados\n",
    "\n",
    "#### Etapa 2: Análise (Jupyter)\n",
    "```bash\n",
    "cd notebooks/\n",
    "jupyter notebook analise.ipynb\n",
    "```\n",
    "\n",
    "**Processos**:\n",
    "- Carregamento dos dados processados\n",
    "- Limpeza e preparação adicional\n",
    "- Análise exploratória completa\n",
    "- Geração de insights e recomendações\n",
    "\n",
    "#### Etapa 3: Dashboard (Streamlit)\n",
    "```bash\n",
    "streamlit run dashboard_streamlit.py\n",
    "```\n",
    "\n",
    "**Interface**:\n",
    "- Carregamento automático dos dados\n",
    "- Visualizações interativas\n",
    "- Filtros dinâmicos\n",
    "- Exportação de relatórios\n",
    "\n",
    "## Dependências e Requisitos\n",
    "\n",
    "### Bibliotecas Principais\n",
    "```python\n",
    "# Processamento de dados\n",
    "pandas>=1.5.0\n",
    "numpy>=1.24.0\n",
    "\n",
    "# Extração de documentos\n",
    "PyPDF2>=3.0.0\n",
    "pdfplumber>=0.9.0\n",
    "python-docx>=0.8.11\n",
    "openpyxl>=3.1.0\n",
    "\n",
    "# Visualização e análise\n",
    "plotly>=5.15.0\n",
    "matplotlib>=3.7.0\n",
    "seaborn>=0.12.0\n",
    "\n",
    "# Dashboard web\n",
    "streamlit>=1.25.0\n",
    "\n",
    "# Configuração e logging\n",
    "pathlib\n",
    "logging\n",
    "datetime\n",
    "```\n",
    "\n",
    "### Estrutura de Arquivos\n",
    "```\n",
    "project_eda2/\n",
    "├── data/\n",
    "│   ├── raw/                # Dados originais\n",
    "│   └── processed/          # Dados extraídos (JSON)\n",
    "├── scripts/\n",
    "│   ├── config.py          # Configurações centralizadas\n",
    "│   ├── extrator_principal.py   # Orquestrador principal\n",
    "│   ├── extrator_pdf.py         # Extração de PDFs\n",
    "│   ├── extrator_doc.py         # Extração de documentos\n",
    "│   └── extrator_csv_xlsx.py    # Extração de planilhas\n",
    "├── notebooks/\n",
    "│   └── analise.ipynb           # Análise exploratória\n",
    "├── dashboard/\n",
    "│   └── dashboard_streamlit.py  # Interface web (a criar)\n",
    "├── requirements.txt            # Dependências\n",
    "└── README.md                  # Documentação\n",
    "```\n",
    "\n",
    "## Próximos Passos para Implementação\n",
    "\n",
    "### 1. Desenvolvimento do Dashboard Streamlit\n",
    "- Criação da estrutura base do dashboard\n",
    "- Implementação das páginas principais\n",
    "- Integração com dados processados\n",
    "- Testes de responsividade\n",
    "\n",
    "### 2. Otimizações do Pipeline\n",
    "- Cache de dados processados\n",
    "- Processamento incremental\n",
    "- Monitoramento de performance\n",
    "- Validação automática de qualidade\n",
    "\n",
    "### 3. Funcionalidades Avançadas\n",
    "- Alertas automáticos por email\n",
    "- Exportação para múltiplos formatos\n",
    "- Integração com APIs externas\n",
    "- Versionamento de dados\n",
    "\n",
    "## Benefícios do Sistema\n",
    "\n",
    "### Para Gestores\n",
    "- **Visibilidade**: Dashboard em tempo real do portfólio\n",
    "- **Insights**: Análises automatizadas e recomendações\n",
    "- **Eficiência**: Redução de tempo em relatórios manuais\n",
    "\n",
    "### Para Analistas\n",
    "- **Automatização**: Pipeline ETL completo e configurável\n",
    "- **Flexibilidade**: Suporte a múltiplos formatos de dados\n",
    "- **Escalabilidade**: Arquitetura modular e extensível\n",
    "\n",
    "### Para a Organização\n",
    "- **Padronização**: Metodologia consistente de análise\n",
    "- **Qualidade**: Validações automáticas de dados\n",
    "- **Colaboração**: Plataforma unificada de insights\n",
    "\n",
    "---\n",
    "\n",
    "*Esta documentação serve como guia de referência para o sistema completo de análise de dados corporativos, desde a extração até a visualização final.*"
   ]
  }
 ],
 "metadata": {
  "kernelspec": {
   "display_name": "Python 3",
   "language": "python",
   "name": "python3"
  },
  "language_info": {
   "codemirror_mode": {
    "name": "ipython",
    "version": 3
   },
   "file_extension": ".py",
   "mimetype": "text/x-python",
   "name": "python",
   "nbconvert_exporter": "python",
   "pygments_lexer": "ipython3",
   "version": "3.12.6"
  }
 },
 "nbformat": 4,
 "nbformat_minor": 5
}
